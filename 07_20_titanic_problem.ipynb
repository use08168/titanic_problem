{
 "cells": [
  {
   "cell_type": "code",
   "execution_count": 1,
   "id": "6a779ab7",
   "metadata": {},
   "outputs": [
    {
     "data": {
      "application/vnd.microsoft.datawrangler.viewer.v0+json": {
       "columns": [
        {
         "name": "index",
         "rawType": "int64",
         "type": "integer"
        },
        {
         "name": "PassengerId",
         "rawType": "int64",
         "type": "integer"
        },
        {
         "name": "Survived",
         "rawType": "int64",
         "type": "integer"
        },
        {
         "name": "Pclass",
         "rawType": "int64",
         "type": "integer"
        },
        {
         "name": "Name",
         "rawType": "object",
         "type": "string"
        },
        {
         "name": "Sex",
         "rawType": "object",
         "type": "string"
        },
        {
         "name": "Age",
         "rawType": "float64",
         "type": "float"
        },
        {
         "name": "SibSp",
         "rawType": "int64",
         "type": "integer"
        },
        {
         "name": "Parch",
         "rawType": "int64",
         "type": "integer"
        },
        {
         "name": "Ticket",
         "rawType": "object",
         "type": "string"
        },
        {
         "name": "Fare",
         "rawType": "float64",
         "type": "float"
        },
        {
         "name": "Cabin",
         "rawType": "object",
         "type": "unknown"
        },
        {
         "name": "Embarked",
         "rawType": "object",
         "type": "unknown"
        }
       ],
       "ref": "04346de2-6cb3-494c-aa5d-57c26384550a",
       "rows": [
        [
         "0",
         "1",
         "0",
         "3",
         "Braund, Mr. Owen Harris",
         "male",
         "22.0",
         "1",
         "0",
         "A/5 21171",
         "7.25",
         null,
         "S"
        ],
        [
         "1",
         "2",
         "1",
         "1",
         "Cumings, Mrs. John Bradley (Florence Briggs Thayer)",
         "female",
         "38.0",
         "1",
         "0",
         "PC 17599",
         "71.2833",
         "C85",
         "C"
        ],
        [
         "2",
         "3",
         "1",
         "3",
         "Heikkinen, Miss. Laina",
         "female",
         "26.0",
         "0",
         "0",
         "STON/O2. 3101282",
         "7.925",
         null,
         "S"
        ],
        [
         "3",
         "4",
         "1",
         "1",
         "Futrelle, Mrs. Jacques Heath (Lily May Peel)",
         "female",
         "35.0",
         "1",
         "0",
         "113803",
         "53.1",
         "C123",
         "S"
        ],
        [
         "4",
         "5",
         "0",
         "3",
         "Allen, Mr. William Henry",
         "male",
         "35.0",
         "0",
         "0",
         "373450",
         "8.05",
         null,
         "S"
        ],
        [
         "5",
         "6",
         "0",
         "3",
         "Moran, Mr. James",
         "male",
         null,
         "0",
         "0",
         "330877",
         "8.4583",
         null,
         "Q"
        ],
        [
         "6",
         "7",
         "0",
         "1",
         "McCarthy, Mr. Timothy J",
         "male",
         "54.0",
         "0",
         "0",
         "17463",
         "51.8625",
         "E46",
         "S"
        ],
        [
         "7",
         "8",
         "0",
         "3",
         "Palsson, Master. Gosta Leonard",
         "male",
         "2.0",
         "3",
         "1",
         "349909",
         "21.075",
         null,
         "S"
        ],
        [
         "8",
         "9",
         "1",
         "3",
         "Johnson, Mrs. Oscar W (Elisabeth Vilhelmina Berg)",
         "female",
         "27.0",
         "0",
         "2",
         "347742",
         "11.1333",
         null,
         "S"
        ],
        [
         "9",
         "10",
         "1",
         "2",
         "Nasser, Mrs. Nicholas (Adele Achem)",
         "female",
         "14.0",
         "1",
         "0",
         "237736",
         "30.0708",
         null,
         "C"
        ],
        [
         "10",
         "11",
         "1",
         "3",
         "Sandstrom, Miss. Marguerite Rut",
         "female",
         "4.0",
         "1",
         "1",
         "PP 9549",
         "16.7",
         "G6",
         "S"
        ],
        [
         "11",
         "12",
         "1",
         "1",
         "Bonnell, Miss. Elizabeth",
         "female",
         "58.0",
         "0",
         "0",
         "113783",
         "26.55",
         "C103",
         "S"
        ],
        [
         "12",
         "13",
         "0",
         "3",
         "Saundercock, Mr. William Henry",
         "male",
         "20.0",
         "0",
         "0",
         "A/5. 2151",
         "8.05",
         null,
         "S"
        ],
        [
         "13",
         "14",
         "0",
         "3",
         "Andersson, Mr. Anders Johan",
         "male",
         "39.0",
         "1",
         "5",
         "347082",
         "31.275",
         null,
         "S"
        ],
        [
         "14",
         "15",
         "0",
         "3",
         "Vestrom, Miss. Hulda Amanda Adolfina",
         "female",
         "14.0",
         "0",
         "0",
         "350406",
         "7.8542",
         null,
         "S"
        ],
        [
         "15",
         "16",
         "1",
         "2",
         "Hewlett, Mrs. (Mary D Kingcome) ",
         "female",
         "55.0",
         "0",
         "0",
         "248706",
         "16.0",
         null,
         "S"
        ],
        [
         "16",
         "17",
         "0",
         "3",
         "Rice, Master. Eugene",
         "male",
         "2.0",
         "4",
         "1",
         "382652",
         "29.125",
         null,
         "Q"
        ],
        [
         "17",
         "18",
         "1",
         "2",
         "Williams, Mr. Charles Eugene",
         "male",
         null,
         "0",
         "0",
         "244373",
         "13.0",
         null,
         "S"
        ],
        [
         "18",
         "19",
         "0",
         "3",
         "Vander Planke, Mrs. Julius (Emelia Maria Vandemoortele)",
         "female",
         "31.0",
         "1",
         "0",
         "345763",
         "18.0",
         null,
         "S"
        ],
        [
         "19",
         "20",
         "1",
         "3",
         "Masselmani, Mrs. Fatima",
         "female",
         null,
         "0",
         "0",
         "2649",
         "7.225",
         null,
         "C"
        ],
        [
         "20",
         "21",
         "0",
         "2",
         "Fynney, Mr. Joseph J",
         "male",
         "35.0",
         "0",
         "0",
         "239865",
         "26.0",
         null,
         "S"
        ],
        [
         "21",
         "22",
         "1",
         "2",
         "Beesley, Mr. Lawrence",
         "male",
         "34.0",
         "0",
         "0",
         "248698",
         "13.0",
         "D56",
         "S"
        ],
        [
         "22",
         "23",
         "1",
         "3",
         "McGowan, Miss. Anna \"Annie\"",
         "female",
         "15.0",
         "0",
         "0",
         "330923",
         "8.0292",
         null,
         "Q"
        ],
        [
         "23",
         "24",
         "1",
         "1",
         "Sloper, Mr. William Thompson",
         "male",
         "28.0",
         "0",
         "0",
         "113788",
         "35.5",
         "A6",
         "S"
        ],
        [
         "24",
         "25",
         "0",
         "3",
         "Palsson, Miss. Torborg Danira",
         "female",
         "8.0",
         "3",
         "1",
         "349909",
         "21.075",
         null,
         "S"
        ],
        [
         "25",
         "26",
         "1",
         "3",
         "Asplund, Mrs. Carl Oscar (Selma Augusta Emilia Johansson)",
         "female",
         "38.0",
         "1",
         "5",
         "347077",
         "31.3875",
         null,
         "S"
        ],
        [
         "26",
         "27",
         "0",
         "3",
         "Emir, Mr. Farred Chehab",
         "male",
         null,
         "0",
         "0",
         "2631",
         "7.225",
         null,
         "C"
        ],
        [
         "27",
         "28",
         "0",
         "1",
         "Fortune, Mr. Charles Alexander",
         "male",
         "19.0",
         "3",
         "2",
         "19950",
         "263.0",
         "C23 C25 C27",
         "S"
        ],
        [
         "28",
         "29",
         "1",
         "3",
         "O'Dwyer, Miss. Ellen \"Nellie\"",
         "female",
         null,
         "0",
         "0",
         "330959",
         "7.8792",
         null,
         "Q"
        ],
        [
         "29",
         "30",
         "0",
         "3",
         "Todoroff, Mr. Lalio",
         "male",
         null,
         "0",
         "0",
         "349216",
         "7.8958",
         null,
         "S"
        ],
        [
         "30",
         "31",
         "0",
         "1",
         "Uruchurtu, Don. Manuel E",
         "male",
         "40.0",
         "0",
         "0",
         "PC 17601",
         "27.7208",
         null,
         "C"
        ],
        [
         "31",
         "32",
         "1",
         "1",
         "Spencer, Mrs. William Augustus (Marie Eugenie)",
         "female",
         null,
         "1",
         "0",
         "PC 17569",
         "146.5208",
         "B78",
         "C"
        ],
        [
         "32",
         "33",
         "1",
         "3",
         "Glynn, Miss. Mary Agatha",
         "female",
         null,
         "0",
         "0",
         "335677",
         "7.75",
         null,
         "Q"
        ],
        [
         "33",
         "34",
         "0",
         "2",
         "Wheadon, Mr. Edward H",
         "male",
         "66.0",
         "0",
         "0",
         "C.A. 24579",
         "10.5",
         null,
         "S"
        ],
        [
         "34",
         "35",
         "0",
         "1",
         "Meyer, Mr. Edgar Joseph",
         "male",
         "28.0",
         "1",
         "0",
         "PC 17604",
         "82.1708",
         null,
         "C"
        ],
        [
         "35",
         "36",
         "0",
         "1",
         "Holverson, Mr. Alexander Oskar",
         "male",
         "42.0",
         "1",
         "0",
         "113789",
         "52.0",
         null,
         "S"
        ],
        [
         "36",
         "37",
         "1",
         "3",
         "Mamee, Mr. Hanna",
         "male",
         null,
         "0",
         "0",
         "2677",
         "7.2292",
         null,
         "C"
        ],
        [
         "37",
         "38",
         "0",
         "3",
         "Cann, Mr. Ernest Charles",
         "male",
         "21.0",
         "0",
         "0",
         "A./5. 2152",
         "8.05",
         null,
         "S"
        ],
        [
         "38",
         "39",
         "0",
         "3",
         "Vander Planke, Miss. Augusta Maria",
         "female",
         "18.0",
         "2",
         "0",
         "345764",
         "18.0",
         null,
         "S"
        ],
        [
         "39",
         "40",
         "1",
         "3",
         "Nicola-Yarred, Miss. Jamila",
         "female",
         "14.0",
         "1",
         "0",
         "2651",
         "11.2417",
         null,
         "C"
        ],
        [
         "40",
         "41",
         "0",
         "3",
         "Ahlin, Mrs. Johan (Johanna Persdotter Larsson)",
         "female",
         "40.0",
         "1",
         "0",
         "7546",
         "9.475",
         null,
         "S"
        ],
        [
         "41",
         "42",
         "0",
         "2",
         "Turpin, Mrs. William John Robert (Dorothy Ann Wonnacott)",
         "female",
         "27.0",
         "1",
         "0",
         "11668",
         "21.0",
         null,
         "S"
        ],
        [
         "42",
         "43",
         "0",
         "3",
         "Kraeff, Mr. Theodor",
         "male",
         null,
         "0",
         "0",
         "349253",
         "7.8958",
         null,
         "C"
        ],
        [
         "43",
         "44",
         "1",
         "2",
         "Laroche, Miss. Simonne Marie Anne Andree",
         "female",
         "3.0",
         "1",
         "2",
         "SC/Paris 2123",
         "41.5792",
         null,
         "C"
        ],
        [
         "44",
         "45",
         "1",
         "3",
         "Devaney, Miss. Margaret Delia",
         "female",
         "19.0",
         "0",
         "0",
         "330958",
         "7.8792",
         null,
         "Q"
        ],
        [
         "45",
         "46",
         "0",
         "3",
         "Rogers, Mr. William John",
         "male",
         null,
         "0",
         "0",
         "S.C./A.4. 23567",
         "8.05",
         null,
         "S"
        ],
        [
         "46",
         "47",
         "0",
         "3",
         "Lennon, Mr. Denis",
         "male",
         null,
         "1",
         "0",
         "370371",
         "15.5",
         null,
         "Q"
        ],
        [
         "47",
         "48",
         "1",
         "3",
         "O'Driscoll, Miss. Bridget",
         "female",
         null,
         "0",
         "0",
         "14311",
         "7.75",
         null,
         "Q"
        ],
        [
         "48",
         "49",
         "0",
         "3",
         "Samaan, Mr. Youssef",
         "male",
         null,
         "2",
         "0",
         "2662",
         "21.6792",
         null,
         "C"
        ],
        [
         "49",
         "50",
         "0",
         "3",
         "Arnold-Franchi, Mrs. Josef (Josefine Franchi)",
         "female",
         "18.0",
         "1",
         "0",
         "349237",
         "17.8",
         null,
         "S"
        ]
       ],
       "shape": {
        "columns": 12,
        "rows": 891
       }
      },
      "text/html": [
       "<div>\n",
       "<style scoped>\n",
       "    .dataframe tbody tr th:only-of-type {\n",
       "        vertical-align: middle;\n",
       "    }\n",
       "\n",
       "    .dataframe tbody tr th {\n",
       "        vertical-align: top;\n",
       "    }\n",
       "\n",
       "    .dataframe thead th {\n",
       "        text-align: right;\n",
       "    }\n",
       "</style>\n",
       "<table border=\"1\" class=\"dataframe\">\n",
       "  <thead>\n",
       "    <tr style=\"text-align: right;\">\n",
       "      <th></th>\n",
       "      <th>PassengerId</th>\n",
       "      <th>Survived</th>\n",
       "      <th>Pclass</th>\n",
       "      <th>Name</th>\n",
       "      <th>Sex</th>\n",
       "      <th>Age</th>\n",
       "      <th>SibSp</th>\n",
       "      <th>Parch</th>\n",
       "      <th>Ticket</th>\n",
       "      <th>Fare</th>\n",
       "      <th>Cabin</th>\n",
       "      <th>Embarked</th>\n",
       "    </tr>\n",
       "  </thead>\n",
       "  <tbody>\n",
       "    <tr>\n",
       "      <th>0</th>\n",
       "      <td>1</td>\n",
       "      <td>0</td>\n",
       "      <td>3</td>\n",
       "      <td>Braund, Mr. Owen Harris</td>\n",
       "      <td>male</td>\n",
       "      <td>22.0</td>\n",
       "      <td>1</td>\n",
       "      <td>0</td>\n",
       "      <td>A/5 21171</td>\n",
       "      <td>7.2500</td>\n",
       "      <td>NaN</td>\n",
       "      <td>S</td>\n",
       "    </tr>\n",
       "    <tr>\n",
       "      <th>1</th>\n",
       "      <td>2</td>\n",
       "      <td>1</td>\n",
       "      <td>1</td>\n",
       "      <td>Cumings, Mrs. John Bradley (Florence Briggs Th...</td>\n",
       "      <td>female</td>\n",
       "      <td>38.0</td>\n",
       "      <td>1</td>\n",
       "      <td>0</td>\n",
       "      <td>PC 17599</td>\n",
       "      <td>71.2833</td>\n",
       "      <td>C85</td>\n",
       "      <td>C</td>\n",
       "    </tr>\n",
       "    <tr>\n",
       "      <th>2</th>\n",
       "      <td>3</td>\n",
       "      <td>1</td>\n",
       "      <td>3</td>\n",
       "      <td>Heikkinen, Miss. Laina</td>\n",
       "      <td>female</td>\n",
       "      <td>26.0</td>\n",
       "      <td>0</td>\n",
       "      <td>0</td>\n",
       "      <td>STON/O2. 3101282</td>\n",
       "      <td>7.9250</td>\n",
       "      <td>NaN</td>\n",
       "      <td>S</td>\n",
       "    </tr>\n",
       "    <tr>\n",
       "      <th>3</th>\n",
       "      <td>4</td>\n",
       "      <td>1</td>\n",
       "      <td>1</td>\n",
       "      <td>Futrelle, Mrs. Jacques Heath (Lily May Peel)</td>\n",
       "      <td>female</td>\n",
       "      <td>35.0</td>\n",
       "      <td>1</td>\n",
       "      <td>0</td>\n",
       "      <td>113803</td>\n",
       "      <td>53.1000</td>\n",
       "      <td>C123</td>\n",
       "      <td>S</td>\n",
       "    </tr>\n",
       "    <tr>\n",
       "      <th>4</th>\n",
       "      <td>5</td>\n",
       "      <td>0</td>\n",
       "      <td>3</td>\n",
       "      <td>Allen, Mr. William Henry</td>\n",
       "      <td>male</td>\n",
       "      <td>35.0</td>\n",
       "      <td>0</td>\n",
       "      <td>0</td>\n",
       "      <td>373450</td>\n",
       "      <td>8.0500</td>\n",
       "      <td>NaN</td>\n",
       "      <td>S</td>\n",
       "    </tr>\n",
       "    <tr>\n",
       "      <th>...</th>\n",
       "      <td>...</td>\n",
       "      <td>...</td>\n",
       "      <td>...</td>\n",
       "      <td>...</td>\n",
       "      <td>...</td>\n",
       "      <td>...</td>\n",
       "      <td>...</td>\n",
       "      <td>...</td>\n",
       "      <td>...</td>\n",
       "      <td>...</td>\n",
       "      <td>...</td>\n",
       "      <td>...</td>\n",
       "    </tr>\n",
       "    <tr>\n",
       "      <th>886</th>\n",
       "      <td>887</td>\n",
       "      <td>0</td>\n",
       "      <td>2</td>\n",
       "      <td>Montvila, Rev. Juozas</td>\n",
       "      <td>male</td>\n",
       "      <td>27.0</td>\n",
       "      <td>0</td>\n",
       "      <td>0</td>\n",
       "      <td>211536</td>\n",
       "      <td>13.0000</td>\n",
       "      <td>NaN</td>\n",
       "      <td>S</td>\n",
       "    </tr>\n",
       "    <tr>\n",
       "      <th>887</th>\n",
       "      <td>888</td>\n",
       "      <td>1</td>\n",
       "      <td>1</td>\n",
       "      <td>Graham, Miss. Margaret Edith</td>\n",
       "      <td>female</td>\n",
       "      <td>19.0</td>\n",
       "      <td>0</td>\n",
       "      <td>0</td>\n",
       "      <td>112053</td>\n",
       "      <td>30.0000</td>\n",
       "      <td>B42</td>\n",
       "      <td>S</td>\n",
       "    </tr>\n",
       "    <tr>\n",
       "      <th>888</th>\n",
       "      <td>889</td>\n",
       "      <td>0</td>\n",
       "      <td>3</td>\n",
       "      <td>Johnston, Miss. Catherine Helen \"Carrie\"</td>\n",
       "      <td>female</td>\n",
       "      <td>NaN</td>\n",
       "      <td>1</td>\n",
       "      <td>2</td>\n",
       "      <td>W./C. 6607</td>\n",
       "      <td>23.4500</td>\n",
       "      <td>NaN</td>\n",
       "      <td>S</td>\n",
       "    </tr>\n",
       "    <tr>\n",
       "      <th>889</th>\n",
       "      <td>890</td>\n",
       "      <td>1</td>\n",
       "      <td>1</td>\n",
       "      <td>Behr, Mr. Karl Howell</td>\n",
       "      <td>male</td>\n",
       "      <td>26.0</td>\n",
       "      <td>0</td>\n",
       "      <td>0</td>\n",
       "      <td>111369</td>\n",
       "      <td>30.0000</td>\n",
       "      <td>C148</td>\n",
       "      <td>C</td>\n",
       "    </tr>\n",
       "    <tr>\n",
       "      <th>890</th>\n",
       "      <td>891</td>\n",
       "      <td>0</td>\n",
       "      <td>3</td>\n",
       "      <td>Dooley, Mr. Patrick</td>\n",
       "      <td>male</td>\n",
       "      <td>32.0</td>\n",
       "      <td>0</td>\n",
       "      <td>0</td>\n",
       "      <td>370376</td>\n",
       "      <td>7.7500</td>\n",
       "      <td>NaN</td>\n",
       "      <td>Q</td>\n",
       "    </tr>\n",
       "  </tbody>\n",
       "</table>\n",
       "<p>891 rows × 12 columns</p>\n",
       "</div>"
      ],
      "text/plain": [
       "     PassengerId  Survived  Pclass  \\\n",
       "0              1         0       3   \n",
       "1              2         1       1   \n",
       "2              3         1       3   \n",
       "3              4         1       1   \n",
       "4              5         0       3   \n",
       "..           ...       ...     ...   \n",
       "886          887         0       2   \n",
       "887          888         1       1   \n",
       "888          889         0       3   \n",
       "889          890         1       1   \n",
       "890          891         0       3   \n",
       "\n",
       "                                                  Name     Sex   Age  SibSp  \\\n",
       "0                              Braund, Mr. Owen Harris    male  22.0      1   \n",
       "1    Cumings, Mrs. John Bradley (Florence Briggs Th...  female  38.0      1   \n",
       "2                               Heikkinen, Miss. Laina  female  26.0      0   \n",
       "3         Futrelle, Mrs. Jacques Heath (Lily May Peel)  female  35.0      1   \n",
       "4                             Allen, Mr. William Henry    male  35.0      0   \n",
       "..                                                 ...     ...   ...    ...   \n",
       "886                              Montvila, Rev. Juozas    male  27.0      0   \n",
       "887                       Graham, Miss. Margaret Edith  female  19.0      0   \n",
       "888           Johnston, Miss. Catherine Helen \"Carrie\"  female   NaN      1   \n",
       "889                              Behr, Mr. Karl Howell    male  26.0      0   \n",
       "890                                Dooley, Mr. Patrick    male  32.0      0   \n",
       "\n",
       "     Parch            Ticket     Fare Cabin Embarked  \n",
       "0        0         A/5 21171   7.2500   NaN        S  \n",
       "1        0          PC 17599  71.2833   C85        C  \n",
       "2        0  STON/O2. 3101282   7.9250   NaN        S  \n",
       "3        0            113803  53.1000  C123        S  \n",
       "4        0            373450   8.0500   NaN        S  \n",
       "..     ...               ...      ...   ...      ...  \n",
       "886      0            211536  13.0000   NaN        S  \n",
       "887      0            112053  30.0000   B42        S  \n",
       "888      2        W./C. 6607  23.4500   NaN        S  \n",
       "889      0            111369  30.0000  C148        C  \n",
       "890      0            370376   7.7500   NaN        Q  \n",
       "\n",
       "[891 rows x 12 columns]"
      ]
     },
     "metadata": {},
     "output_type": "display_data"
    }
   ],
   "source": [
    "import pandas as pd\n",
    "import numpy as  np\n",
    "\n",
    "# [실습] titanic 승객 데이터 활용\n",
    "# 컬럼 설명\n",
    "\n",
    "# PassengerId - 승객 고유번호\n",
    "# Survived - 생존유무(target 값) (0 = 사망, 1 = 생존)\n",
    "# Pclass - 티켓 클래스 (1 = 1st, 2 = 2nd, 3 = 3rd)\n",
    "# Name - 탑승객 성명\n",
    "# Sex - 성별 (male: 남성, female: 여성)\n",
    "# Age - 나이(세)\n",
    "# SibSp - 함께 탑승한 형제자매, 배우자 수 총합\n",
    "# Parch - 함께 탑승한 부모, 자녀 수 총합\n",
    "# Ticket - 티켓 넘버\n",
    "# Fare - 탑승 요금\n",
    "# Cabin - 객실 넘버\n",
    "# Embarked - 탑승 항구 (C: Cherbourg, Q: Queenstown, S: Southampton)\n",
    "# # titanic.csv 파일 로드\n",
    "# # titanic 데이터셋의 메타 데이터 확인\n",
    "\n",
    "titanic = pd.read_csv('./data/titanic.csv')\n",
    "display(titanic)"
   ]
  },
  {
   "cell_type": "markdown",
   "id": "7728a069",
   "metadata": {},
   "source": [
    "# 기초문제"
   ]
  },
  {
   "cell_type": "code",
   "execution_count": 2,
   "id": "2aa6c54b",
   "metadata": {},
   "outputs": [
    {
     "name": "stdout",
     "output_type": "stream",
     "text": [
      "Survived\n",
      "1    342\n",
      "Name: count, dtype: int64\n",
      ">----------------------------------------------------------<\n",
      "Survived\n",
      "0    549\n",
      "Name: count, dtype: int64\n"
     ]
    }
   ],
   "source": [
    "#  1. 전체 승객 중 생존자의 수와 사망자의 수를 구하여 출력\n",
    "\n",
    "total_survivor = titanic[titanic[\"Survived\"] == 1]\n",
    "total_death = titanic[titanic[\"Survived\"] == 0]\n",
    "\n",
    "\n",
    "print(total_survivor.value_counts(\"Survived\"))\n",
    "print(\">----------------------------------------------------------<\")\n",
    "print(total_death.value_counts(\"Survived\"))\n"
   ]
  },
  {
   "cell_type": "code",
   "execution_count": 3,
   "id": "6faa2e93",
   "metadata": {},
   "outputs": [
    {
     "name": "stdout",
     "output_type": "stream",
     "text": [
      "23.79929292929293\n"
     ]
    }
   ],
   "source": [
    "#  2. 승객 나이의 평균 출력\n",
    "\n",
    "total_age_sum = titanic[\"Age\"].sum()\n",
    "total_passenger = titanic[\"PassengerId\"].max()\n",
    "mean_age = total_age_sum / total_passenger\n",
    "print(mean_age)"
   ]
  },
  {
   "cell_type": "code",
   "execution_count": 4,
   "id": "aa2586e8",
   "metadata": {},
   "outputs": [
    {
     "name": "stdout",
     "output_type": "stream",
     "text": [
      "258                      Ward, Miss. Anna\n",
      "679    Cardeza, Mr. Thomas Drake Martinez\n",
      "737                Lesurer, Mr. Gustave J\n",
      "Name: Name, dtype: object\n"
     ]
    }
   ],
   "source": [
    "#  3. 1등급 승객 중 운임이 가장 높은 승객의 이름 출력\n",
    "\n",
    "find_top_fare = titanic[\"Fare\"].max()\n",
    "find_top_fare_name = titanic[titanic[\"Fare\"] == find_top_fare][\"Name\"]\n",
    "print(find_top_fare_name)"
   ]
  },
  {
   "cell_type": "code",
   "execution_count": 5,
   "id": "466652c4",
   "metadata": {},
   "outputs": [
    {
     "name": "stdout",
     "output_type": "stream",
     "text": [
      "Sex\n",
      "female    314\n",
      "Name: count, dtype: int64\n"
     ]
    }
   ],
   "source": [
    "#  4. 여성 승객의 수를 구하여 출력\n",
    "\n",
    "find_female = titanic[titanic[\"Sex\"] == \"female\"]\n",
    "print(find_female.value_counts(\"Sex\"))"
   ]
  },
  {
   "cell_type": "code",
   "execution_count": 6,
   "id": "583c441d",
   "metadata": {},
   "outputs": [
    {
     "name": "stdout",
     "output_type": "stream",
     "text": [
      "                                                  Name      Fare\n",
      "1    Cumings, Mrs. John Bradley (Florence Briggs Th...   71.2833\n",
      "3         Futrelle, Mrs. Jacques Heath (Lily May Peel)   53.1000\n",
      "6                              McCarthy, Mr. Timothy J   51.8625\n",
      "27                      Fortune, Mr. Charles Alexander  263.0000\n",
      "31      Spencer, Mrs. William Augustus (Marie Eugenie)  146.5208\n",
      "..                                                 ...       ...\n",
      "856         Wick, Mrs. George Dennick (Mary Hitchcock)  164.8667\n",
      "863                  Sage, Miss. Dorothy Edith \"Dolly\"   69.5500\n",
      "867               Roebling, Mr. Washington Augustus II   50.4958\n",
      "871   Beckwith, Mrs. Richard Leonard (Sallie Monypeny)   52.5542\n",
      "879      Potter, Mrs. Thomas Jr (Lily Alexenia Wilson)   83.1583\n",
      "\n",
      "[161 rows x 2 columns]\n"
     ]
    }
   ],
   "source": [
    "#  5. 운임이 50 이상인 승객의 이름과 운임 출력\n",
    "\n",
    "find_fare_over_50 = titanic[titanic[\"Fare\"] >= 50]\n",
    "find_name_fare_over_50 = find_fare_over_50[[\"Name\", \"Fare\"]]\n",
    "print(find_name_fare_over_50)"
   ]
  },
  {
   "cell_type": "code",
   "execution_count": 7,
   "id": "56d6c391",
   "metadata": {},
   "outputs": [
    {
     "name": "stdout",
     "output_type": "stream",
     "text": [
      "53.98230088495575\n"
     ]
    }
   ],
   "source": [
    "#  6. 나이가 18세 미만인 승객들의 생존율을 계산하여 출력\n",
    "\n",
    "find_age_under_18 = titanic[titanic[\"Age\"] < 18].count()\n",
    "find_age_under_18_count = find_age_under_18[\"PassengerId\"]\n",
    "find_survivor_under_18 = titanic[titanic[\"Age\"] < 18].value_counts(\"Survived\")[1]\n",
    "survival_rate = find_survivor_under_18 / find_age_under_18_count * 100 \n",
    "print(survival_rate)"
   ]
  },
  {
   "cell_type": "code",
   "execution_count": 8,
   "id": "89a63927",
   "metadata": {},
   "outputs": [
    {
     "name": "stdout",
     "output_type": "stream",
     "text": [
      "20.662183152173913\n"
     ]
    }
   ],
   "source": [
    "#  7. 2등급 객실에 탑승한 승객의 평균 운임을 계산하여 출력\n",
    "\n",
    "find_pclass_2 = titanic[titanic[\"Pclass\"] == 2]\n",
    "find_pclass_2_fare = find_pclass_2[\"Fare\"].sum()\n",
    "find_pclass_2_counts = find_pclass_2.count()\n",
    "find_pclass_2_count = find_pclass_2_counts[\"PassengerId\"]\n",
    "average_pclass_2 = find_pclass_2_fare / find_pclass_2_count\n",
    "print(average_pclass_2)"
   ]
  },
  {
   "cell_type": "code",
   "execution_count": 9,
   "id": "ac527133",
   "metadata": {},
   "outputs": [
    {
     "name": "stdout",
     "output_type": "stream",
     "text": [
      "                                     Name   Age\n",
      "630  Barkworth, Mr. Algernon Henry Wilson  80.0\n"
     ]
    }
   ],
   "source": [
    "#  8. 승객 중 나이가 가장 많은 사람의 나이와 이름을 출력\n",
    "\n",
    "find_oldest_passenger = titanic[\"Age\"].max()\n",
    "find_oldest_name_age = titanic[titanic[\"Age\"] == find_oldest_passenger][[\"Name\", \"Age\"]]\n",
    "print(find_oldest_name_age)"
   ]
  },
  {
   "cell_type": "code",
   "execution_count": 10,
   "id": "26fb8323",
   "metadata": {},
   "outputs": [
    {
     "name": "stdout",
     "output_type": "stream",
     "text": [
      "644\n"
     ]
    }
   ],
   "source": [
    "#  9. S 항구에서 탑승한 승객의 수를 출력\n",
    "\n",
    "find_embarked_s_passenger_count = titanic[titanic[\"Embarked\"] == \"S\"].count()[\"PassengerId\"]\n",
    "print(find_embarked_s_passenger_count)"
   ]
  },
  {
   "cell_type": "code",
   "execution_count": 11,
   "id": "7c29bb2a",
   "metadata": {},
   "outputs": [
    {
     "name": "stdout",
     "output_type": "stream",
     "text": [
      "34.293948126801155\n"
     ]
    }
   ],
   "source": [
    "#  10. 3등급 객실에 탑승한 남성 승객 중 생존자의 수를 출력\n",
    "\n",
    "find_pclass_3_male_count = titanic[titanic[\"Pclass\"] == 3].value_counts(\"Sex\")[\"male\"]\n",
    "find_pclass_3_male_survivor = titanic[titanic[\"Pclass\"] == 3].value_counts(\"Survived\")[1]\n",
    "pclass_3_survival_rate = find_pclass_3_male_survivor / find_pclass_3_male_count * 100\n",
    "print(pclass_3_survival_rate)"
   ]
  },
  {
   "cell_type": "markdown",
   "id": "a7c120d9",
   "metadata": {},
   "source": [
    "# 고급문제"
   ]
  },
  {
   "cell_type": "code",
   "execution_count": 12,
   "id": "3ea39fc3",
   "metadata": {},
   "outputs": [
    {
     "name": "stdout",
     "output_type": "stream",
     "text": [
      "1등급 객실의 생존자 나이 평균 : 35.36819672131148\n",
      "2등급 객실의 생존자 나이 평균 : 25.90156626506024\n",
      "3등급 객실의 생존자 나이 평균 : 20.646117647058823\n",
      "1등급 객실의 사망자 나이 평균 : 43.6953125\n",
      "2등급 객실의 사망자 나이 평균 : 33.544444444444444\n",
      "3등급 객실의 사망자 나이 평균 : 26.555555555555557\n"
     ]
    }
   ],
   "source": [
    "#  1. 생존자(Survived)와 그렇지 않은 사람들의 `Pclass`(객실 등급)별 평균 나이를 각각 출력\n",
    "\n",
    "find_survivor = titanic[titanic[\"Survived\"] == 1][[\"Pclass\", \"Age\"]]\n",
    "for pclass_num in range(1,4):\n",
    "    find_survivor_placc_1_total_age = find_survivor.loc[find_survivor['Pclass'] == pclass_num, 'Age'].sum()\n",
    "    find_survivor_placc_1_total_count = find_survivor.loc[find_survivor['Pclass'] == pclass_num, 'Age'].count()\n",
    "    pclass_survivor_avg_age = find_survivor_placc_1_total_age / find_survivor_placc_1_total_count\n",
    "    print(f\"{pclass_num}등급 객실의 생존자 나이 평균 : {pclass_survivor_avg_age}\")\n",
    "\n",
    "find_death = titanic[titanic[\"Survived\"] == 0][[\"Pclass\", \"Age\"]]\n",
    "for pclass_num in range(1,4):\n",
    "    find_death_placc_1_total_age = find_death.loc[find_death['Pclass'] == pclass_num, 'Age'].sum()\n",
    "    find_death_placc_1_total_count = find_death.loc[find_death['Pclass'] == pclass_num, 'Age'].count()\n",
    "    pclass_death_avg_age = find_death_placc_1_total_age / find_death_placc_1_total_count\n",
    "    print(f\"{pclass_num}등급 객실의 사망자 나이 평균 : {pclass_death_avg_age}\")"
   ]
  },
  {
   "cell_type": "code",
   "execution_count": 13,
   "id": "cb842934",
   "metadata": {},
   "outputs": [
    {
     "name": "stdout",
     "output_type": "stream",
     "text": [
      "                                                  Name   Age\n",
      "85   Backstrom, Mrs. Karl Alfred (Maria Mathilda Gu...  33.0\n",
      "726        Renouf, Mrs. Peter Henry (Lillian Jefferys)  30.0\n",
      "341                     Fortune, Miss. Alice Elizabeth  24.0\n",
      "88                          Fortune, Miss. Mabel Helen  23.0\n",
      "27                      Fortune, Mr. Charles Alexander  19.0\n"
     ]
    }
   ],
   "source": [
    "#  2. `SibSp`(형제/배우자 수)가 3 이상인 승객들 중에서, `Fare`(운임) 상위 5명의 이름과 나이를 출력\n",
    "\n",
    "find_sibsp_over_3 = titanic[titanic[\"SibSp\"] >= 3]\n",
    "find_sibsp_top_5 = find_sibsp_over_3.sort_values(by=\"Age\", ascending=False).head(5)[[\"Name\", \"Age\"]]\n",
    "print(find_sibsp_top_5)"
   ]
  },
  {
   "cell_type": "code",
   "execution_count": 14,
   "id": "c2be1b22",
   "metadata": {},
   "outputs": [
    {
     "name": "stdout",
     "output_type": "stream",
     "text": [
      "C: 38개\n",
      "Q: 49개\n",
      "S: 90개\n"
     ]
    }
   ],
   "source": [
    "#  3. 승객 중에서 `Age` 값이 결측치(NaN)인 사람들의 `Embarked`(탑승 항구)별 분포를 출력\n",
    "\n",
    "find_age_nan_embarked = titanic[titanic[\"Age\"].isna()]\n",
    "embarked_counts = find_age_nan_embarked['Embarked'].value_counts()\n",
    "\n",
    "for port in ['C', 'Q', 'S']:\n",
    "    count = embarked_counts.get(port, 0)\n",
    "    print(f\"{port}: {count}개\")"
   ]
  },
  {
   "cell_type": "code",
   "execution_count": 38,
   "id": "148bcacc",
   "metadata": {},
   "outputs": [
    {
     "data": {
      "application/vnd.microsoft.datawrangler.viewer.v0+json": {
       "columns": [
        {
         "name": "index",
         "rawType": "int64",
         "type": "integer"
        },
        {
         "name": "PassengerId",
         "rawType": "int64",
         "type": "integer"
        },
        {
         "name": "Survived",
         "rawType": "int64",
         "type": "integer"
        },
        {
         "name": "Pclass",
         "rawType": "int64",
         "type": "integer"
        },
        {
         "name": "Name",
         "rawType": "object",
         "type": "string"
        },
        {
         "name": "Sex",
         "rawType": "object",
         "type": "string"
        },
        {
         "name": "Age",
         "rawType": "float64",
         "type": "float"
        },
        {
         "name": "SibSp",
         "rawType": "int64",
         "type": "integer"
        },
        {
         "name": "Parch",
         "rawType": "int64",
         "type": "integer"
        },
        {
         "name": "Ticket",
         "rawType": "object",
         "type": "string"
        },
        {
         "name": "Fare",
         "rawType": "float64",
         "type": "float"
        },
        {
         "name": "Cabin",
         "rawType": "object",
         "type": "unknown"
        },
        {
         "name": "Embarked",
         "rawType": "object",
         "type": "string"
        }
       ],
       "ref": "e338619e-fd2e-4b3f-a5bd-df74da61966d",
       "rows": [
        [
         "14",
         "15",
         "0",
         "3",
         "Vestrom, Miss. Hulda Amanda Adolfina",
         "female",
         "14.0",
         "0",
         "0",
         "350406",
         "7.8542",
         null,
         "S"
        ],
        [
         "22",
         "23",
         "1",
         "3",
         "McGowan, Miss. Anna \"Annie\"",
         "female",
         "15.0",
         "0",
         "0",
         "330923",
         "8.0292",
         null,
         "Q"
        ],
        [
         "138",
         "139",
         "0",
         "3",
         "Osen, Mr. Olaf Elon",
         "male",
         "16.0",
         "0",
         "0",
         "7534",
         "9.2167",
         null,
         "S"
        ],
        [
         "156",
         "157",
         "1",
         "3",
         "Gilnagh, Miss. Katherine \"Katie\"",
         "female",
         "16.0",
         "0",
         "0",
         "35851",
         "7.7333",
         null,
         "Q"
        ],
        [
         "208",
         "209",
         "1",
         "3",
         "Carr, Miss. Helen \"Ellen\"",
         "female",
         "16.0",
         "0",
         "0",
         "367231",
         "7.75",
         null,
         "Q"
        ],
        [
         "220",
         "221",
         "1",
         "3",
         "Sunderland, Mr. Victor Francis",
         "male",
         "16.0",
         "0",
         "0",
         "SOTON/OQ 392089",
         "8.05",
         null,
         "S"
        ],
        [
         "282",
         "283",
         "0",
         "3",
         "de Pelsmaeker, Mr. Alfons",
         "male",
         "16.0",
         "0",
         "0",
         "345778",
         "9.5",
         null,
         "S"
        ],
        [
         "504",
         "505",
         "1",
         "1",
         "Maioni, Miss. Roberta",
         "female",
         "16.0",
         "0",
         "0",
         "110152",
         "86.5",
         "B79",
         "S"
        ],
        [
         "574",
         "575",
         "0",
         "3",
         "Rush, Mr. Alfred George John",
         "male",
         "16.0",
         "0",
         "0",
         "A/4. 20589",
         "8.05",
         null,
         "S"
        ],
        [
         "731",
         "732",
         "0",
         "3",
         "Hassan, Mr. Houssein G N",
         "male",
         "11.0",
         "0",
         "0",
         "2699",
         "18.7875",
         null,
         "C"
        ],
        [
         "764",
         "765",
         "0",
         "3",
         "Eklund, Mr. Hans Linus",
         "male",
         "16.0",
         "0",
         "0",
         "347074",
         "7.775",
         null,
         "S"
        ],
        [
         "777",
         "778",
         "1",
         "3",
         "Emanuel, Miss. Virginia Ethel",
         "female",
         "5.0",
         "0",
         "0",
         "364516",
         "12.475",
         null,
         "S"
        ],
        [
         "780",
         "781",
         "1",
         "3",
         "Ayoub, Miss. Banoura",
         "female",
         "13.0",
         "0",
         "0",
         "2687",
         "7.2292",
         null,
         "C"
        ],
        [
         "791",
         "792",
         "0",
         "2",
         "Gaskell, Mr. Alfred",
         "male",
         "16.0",
         "0",
         "0",
         "239865",
         "26.0",
         null,
         "S"
        ],
        [
         "841",
         "842",
         "0",
         "2",
         "Mudd, Mr. Thomas Charles",
         "male",
         "16.0",
         "0",
         "0",
         "S.O./P.P. 3",
         "10.5",
         null,
         "S"
        ],
        [
         "875",
         "876",
         "1",
         "3",
         "Najib, Miss. Adele Kiamie \"Jane\"",
         "female",
         "15.0",
         "0",
         "0",
         "2667",
         "7.225",
         null,
         "C"
        ]
       ],
       "shape": {
        "columns": 12,
        "rows": 16
       }
      },
      "text/html": [
       "<div>\n",
       "<style scoped>\n",
       "    .dataframe tbody tr th:only-of-type {\n",
       "        vertical-align: middle;\n",
       "    }\n",
       "\n",
       "    .dataframe tbody tr th {\n",
       "        vertical-align: top;\n",
       "    }\n",
       "\n",
       "    .dataframe thead th {\n",
       "        text-align: right;\n",
       "    }\n",
       "</style>\n",
       "<table border=\"1\" class=\"dataframe\">\n",
       "  <thead>\n",
       "    <tr style=\"text-align: right;\">\n",
       "      <th></th>\n",
       "      <th>PassengerId</th>\n",
       "      <th>Survived</th>\n",
       "      <th>Pclass</th>\n",
       "      <th>Name</th>\n",
       "      <th>Sex</th>\n",
       "      <th>Age</th>\n",
       "      <th>SibSp</th>\n",
       "      <th>Parch</th>\n",
       "      <th>Ticket</th>\n",
       "      <th>Fare</th>\n",
       "      <th>Cabin</th>\n",
       "      <th>Embarked</th>\n",
       "    </tr>\n",
       "  </thead>\n",
       "  <tbody>\n",
       "    <tr>\n",
       "      <th>14</th>\n",
       "      <td>15</td>\n",
       "      <td>0</td>\n",
       "      <td>3</td>\n",
       "      <td>Vestrom, Miss. Hulda Amanda Adolfina</td>\n",
       "      <td>female</td>\n",
       "      <td>14.0</td>\n",
       "      <td>0</td>\n",
       "      <td>0</td>\n",
       "      <td>350406</td>\n",
       "      <td>7.8542</td>\n",
       "      <td>NaN</td>\n",
       "      <td>S</td>\n",
       "    </tr>\n",
       "    <tr>\n",
       "      <th>22</th>\n",
       "      <td>23</td>\n",
       "      <td>1</td>\n",
       "      <td>3</td>\n",
       "      <td>McGowan, Miss. Anna \"Annie\"</td>\n",
       "      <td>female</td>\n",
       "      <td>15.0</td>\n",
       "      <td>0</td>\n",
       "      <td>0</td>\n",
       "      <td>330923</td>\n",
       "      <td>8.0292</td>\n",
       "      <td>NaN</td>\n",
       "      <td>Q</td>\n",
       "    </tr>\n",
       "    <tr>\n",
       "      <th>138</th>\n",
       "      <td>139</td>\n",
       "      <td>0</td>\n",
       "      <td>3</td>\n",
       "      <td>Osen, Mr. Olaf Elon</td>\n",
       "      <td>male</td>\n",
       "      <td>16.0</td>\n",
       "      <td>0</td>\n",
       "      <td>0</td>\n",
       "      <td>7534</td>\n",
       "      <td>9.2167</td>\n",
       "      <td>NaN</td>\n",
       "      <td>S</td>\n",
       "    </tr>\n",
       "    <tr>\n",
       "      <th>156</th>\n",
       "      <td>157</td>\n",
       "      <td>1</td>\n",
       "      <td>3</td>\n",
       "      <td>Gilnagh, Miss. Katherine \"Katie\"</td>\n",
       "      <td>female</td>\n",
       "      <td>16.0</td>\n",
       "      <td>0</td>\n",
       "      <td>0</td>\n",
       "      <td>35851</td>\n",
       "      <td>7.7333</td>\n",
       "      <td>NaN</td>\n",
       "      <td>Q</td>\n",
       "    </tr>\n",
       "    <tr>\n",
       "      <th>208</th>\n",
       "      <td>209</td>\n",
       "      <td>1</td>\n",
       "      <td>3</td>\n",
       "      <td>Carr, Miss. Helen \"Ellen\"</td>\n",
       "      <td>female</td>\n",
       "      <td>16.0</td>\n",
       "      <td>0</td>\n",
       "      <td>0</td>\n",
       "      <td>367231</td>\n",
       "      <td>7.7500</td>\n",
       "      <td>NaN</td>\n",
       "      <td>Q</td>\n",
       "    </tr>\n",
       "    <tr>\n",
       "      <th>220</th>\n",
       "      <td>221</td>\n",
       "      <td>1</td>\n",
       "      <td>3</td>\n",
       "      <td>Sunderland, Mr. Victor Francis</td>\n",
       "      <td>male</td>\n",
       "      <td>16.0</td>\n",
       "      <td>0</td>\n",
       "      <td>0</td>\n",
       "      <td>SOTON/OQ 392089</td>\n",
       "      <td>8.0500</td>\n",
       "      <td>NaN</td>\n",
       "      <td>S</td>\n",
       "    </tr>\n",
       "    <tr>\n",
       "      <th>282</th>\n",
       "      <td>283</td>\n",
       "      <td>0</td>\n",
       "      <td>3</td>\n",
       "      <td>de Pelsmaeker, Mr. Alfons</td>\n",
       "      <td>male</td>\n",
       "      <td>16.0</td>\n",
       "      <td>0</td>\n",
       "      <td>0</td>\n",
       "      <td>345778</td>\n",
       "      <td>9.5000</td>\n",
       "      <td>NaN</td>\n",
       "      <td>S</td>\n",
       "    </tr>\n",
       "    <tr>\n",
       "      <th>504</th>\n",
       "      <td>505</td>\n",
       "      <td>1</td>\n",
       "      <td>1</td>\n",
       "      <td>Maioni, Miss. Roberta</td>\n",
       "      <td>female</td>\n",
       "      <td>16.0</td>\n",
       "      <td>0</td>\n",
       "      <td>0</td>\n",
       "      <td>110152</td>\n",
       "      <td>86.5000</td>\n",
       "      <td>B79</td>\n",
       "      <td>S</td>\n",
       "    </tr>\n",
       "    <tr>\n",
       "      <th>574</th>\n",
       "      <td>575</td>\n",
       "      <td>0</td>\n",
       "      <td>3</td>\n",
       "      <td>Rush, Mr. Alfred George John</td>\n",
       "      <td>male</td>\n",
       "      <td>16.0</td>\n",
       "      <td>0</td>\n",
       "      <td>0</td>\n",
       "      <td>A/4. 20589</td>\n",
       "      <td>8.0500</td>\n",
       "      <td>NaN</td>\n",
       "      <td>S</td>\n",
       "    </tr>\n",
       "    <tr>\n",
       "      <th>731</th>\n",
       "      <td>732</td>\n",
       "      <td>0</td>\n",
       "      <td>3</td>\n",
       "      <td>Hassan, Mr. Houssein G N</td>\n",
       "      <td>male</td>\n",
       "      <td>11.0</td>\n",
       "      <td>0</td>\n",
       "      <td>0</td>\n",
       "      <td>2699</td>\n",
       "      <td>18.7875</td>\n",
       "      <td>NaN</td>\n",
       "      <td>C</td>\n",
       "    </tr>\n",
       "    <tr>\n",
       "      <th>764</th>\n",
       "      <td>765</td>\n",
       "      <td>0</td>\n",
       "      <td>3</td>\n",
       "      <td>Eklund, Mr. Hans Linus</td>\n",
       "      <td>male</td>\n",
       "      <td>16.0</td>\n",
       "      <td>0</td>\n",
       "      <td>0</td>\n",
       "      <td>347074</td>\n",
       "      <td>7.7750</td>\n",
       "      <td>NaN</td>\n",
       "      <td>S</td>\n",
       "    </tr>\n",
       "    <tr>\n",
       "      <th>777</th>\n",
       "      <td>778</td>\n",
       "      <td>1</td>\n",
       "      <td>3</td>\n",
       "      <td>Emanuel, Miss. Virginia Ethel</td>\n",
       "      <td>female</td>\n",
       "      <td>5.0</td>\n",
       "      <td>0</td>\n",
       "      <td>0</td>\n",
       "      <td>364516</td>\n",
       "      <td>12.4750</td>\n",
       "      <td>NaN</td>\n",
       "      <td>S</td>\n",
       "    </tr>\n",
       "    <tr>\n",
       "      <th>780</th>\n",
       "      <td>781</td>\n",
       "      <td>1</td>\n",
       "      <td>3</td>\n",
       "      <td>Ayoub, Miss. Banoura</td>\n",
       "      <td>female</td>\n",
       "      <td>13.0</td>\n",
       "      <td>0</td>\n",
       "      <td>0</td>\n",
       "      <td>2687</td>\n",
       "      <td>7.2292</td>\n",
       "      <td>NaN</td>\n",
       "      <td>C</td>\n",
       "    </tr>\n",
       "    <tr>\n",
       "      <th>791</th>\n",
       "      <td>792</td>\n",
       "      <td>0</td>\n",
       "      <td>2</td>\n",
       "      <td>Gaskell, Mr. Alfred</td>\n",
       "      <td>male</td>\n",
       "      <td>16.0</td>\n",
       "      <td>0</td>\n",
       "      <td>0</td>\n",
       "      <td>239865</td>\n",
       "      <td>26.0000</td>\n",
       "      <td>NaN</td>\n",
       "      <td>S</td>\n",
       "    </tr>\n",
       "    <tr>\n",
       "      <th>841</th>\n",
       "      <td>842</td>\n",
       "      <td>0</td>\n",
       "      <td>2</td>\n",
       "      <td>Mudd, Mr. Thomas Charles</td>\n",
       "      <td>male</td>\n",
       "      <td>16.0</td>\n",
       "      <td>0</td>\n",
       "      <td>0</td>\n",
       "      <td>S.O./P.P. 3</td>\n",
       "      <td>10.5000</td>\n",
       "      <td>NaN</td>\n",
       "      <td>S</td>\n",
       "    </tr>\n",
       "    <tr>\n",
       "      <th>875</th>\n",
       "      <td>876</td>\n",
       "      <td>1</td>\n",
       "      <td>3</td>\n",
       "      <td>Najib, Miss. Adele Kiamie \"Jane\"</td>\n",
       "      <td>female</td>\n",
       "      <td>15.0</td>\n",
       "      <td>0</td>\n",
       "      <td>0</td>\n",
       "      <td>2667</td>\n",
       "      <td>7.2250</td>\n",
       "      <td>NaN</td>\n",
       "      <td>C</td>\n",
       "    </tr>\n",
       "  </tbody>\n",
       "</table>\n",
       "</div>"
      ],
      "text/plain": [
       "     PassengerId  Survived  Pclass                                  Name  \\\n",
       "14            15         0       3  Vestrom, Miss. Hulda Amanda Adolfina   \n",
       "22            23         1       3           McGowan, Miss. Anna \"Annie\"   \n",
       "138          139         0       3                   Osen, Mr. Olaf Elon   \n",
       "156          157         1       3      Gilnagh, Miss. Katherine \"Katie\"   \n",
       "208          209         1       3             Carr, Miss. Helen \"Ellen\"   \n",
       "220          221         1       3        Sunderland, Mr. Victor Francis   \n",
       "282          283         0       3             de Pelsmaeker, Mr. Alfons   \n",
       "504          505         1       1                 Maioni, Miss. Roberta   \n",
       "574          575         0       3          Rush, Mr. Alfred George John   \n",
       "731          732         0       3              Hassan, Mr. Houssein G N   \n",
       "764          765         0       3                Eklund, Mr. Hans Linus   \n",
       "777          778         1       3         Emanuel, Miss. Virginia Ethel   \n",
       "780          781         1       3                  Ayoub, Miss. Banoura   \n",
       "791          792         0       2                   Gaskell, Mr. Alfred   \n",
       "841          842         0       2              Mudd, Mr. Thomas Charles   \n",
       "875          876         1       3      Najib, Miss. Adele Kiamie \"Jane\"   \n",
       "\n",
       "        Sex   Age  SibSp  Parch           Ticket     Fare Cabin Embarked  \n",
       "14   female  14.0      0      0           350406   7.8542   NaN        S  \n",
       "22   female  15.0      0      0           330923   8.0292   NaN        Q  \n",
       "138    male  16.0      0      0             7534   9.2167   NaN        S  \n",
       "156  female  16.0      0      0            35851   7.7333   NaN        Q  \n",
       "208  female  16.0      0      0           367231   7.7500   NaN        Q  \n",
       "220    male  16.0      0      0  SOTON/OQ 392089   8.0500   NaN        S  \n",
       "282    male  16.0      0      0           345778   9.5000   NaN        S  \n",
       "504  female  16.0      0      0           110152  86.5000   B79        S  \n",
       "574    male  16.0      0      0       A/4. 20589   8.0500   NaN        S  \n",
       "731    male  11.0      0      0             2699  18.7875   NaN        C  \n",
       "764    male  16.0      0      0           347074   7.7750   NaN        S  \n",
       "777  female   5.0      0      0           364516  12.4750   NaN        S  \n",
       "780  female  13.0      0      0             2687   7.2292   NaN        C  \n",
       "791    male  16.0      0      0           239865  26.0000   NaN        S  \n",
       "841    male  16.0      0      0      S.O./P.P. 3  10.5000   NaN        S  \n",
       "875  female  15.0      0      0             2667   7.2250   NaN        C  "
      ]
     },
     "metadata": {},
     "output_type": "display_data"
    }
   ],
   "source": [
    "#  4. 나이가 16세 미만이고, 혼자 탑승한(`SibSp == 0` and `Parch == 0`) 승객의 이름과 성별, 생존 여부를 출력\n",
    "\n",
    "find_under_16_sibsp_parch_0 = titanic[(titanic[\"Age\"] <= 16) &(titanic['SibSp'] == 0)& (titanic['Parch'] == 0)]\n",
    "\n",
    "display(find_under_16_sibsp_parch_0)\n",
    "\n"
   ]
  },
  {
   "cell_type": "code",
   "execution_count": 65,
   "id": "7af7cea3",
   "metadata": {},
   "outputs": [
    {
     "name": "stderr",
     "output_type": "stream",
     "text": [
      "C:\\Users\\김준협\\AppData\\Local\\Temp\\ipykernel_23252\\3710359518.py:5: UserWarning: Boolean Series key will be reindexed to match DataFrame index.\n",
      "  find_pclass_1_ober_mean = find_pclass_1[titanic['Fare'] > find_pclass_1_mean][['Name', 'Age', 'Fare']]\n"
     ]
    },
    {
     "data": {
      "application/vnd.microsoft.datawrangler.viewer.v0+json": {
       "columns": [
        {
         "name": "index",
         "rawType": "int64",
         "type": "integer"
        },
        {
         "name": "Name",
         "rawType": "object",
         "type": "string"
        },
        {
         "name": "Age",
         "rawType": "float64",
         "type": "float"
        },
        {
         "name": "Fare",
         "rawType": "float64",
         "type": "float"
        }
       ],
       "ref": "4f37e4bb-d5e6-417e-b9ff-8de60b11409d",
       "rows": [
        [
         "27",
         "Fortune, Mr. Charles Alexander",
         "19.0",
         "263.0"
        ],
        [
         "31",
         "Spencer, Mrs. William Augustus (Marie Eugenie)",
         null,
         "146.5208"
        ],
        [
         "88",
         "Fortune, Miss. Mabel Helen",
         "23.0",
         "263.0"
        ],
        [
         "118",
         "Baxter, Mr. Quigg Edmond",
         "24.0",
         "247.5208"
        ],
        [
         "195",
         "Lurette, Miss. Elise",
         "58.0",
         "146.5208"
        ],
        [
         "215",
         "Newell, Miss. Madeleine",
         "31.0",
         "113.275"
        ],
        [
         "224",
         "Hoyt, Mr. Frederick Maxfield",
         "38.0",
         "90.0"
        ],
        [
         "245",
         "Minahan, Dr. William Edward",
         "44.0",
         "90.0"
        ],
        [
         "257",
         "Cherry, Miss. Gladys",
         "30.0",
         "86.5"
        ],
        [
         "258",
         "Ward, Miss. Anna",
         "35.0",
         "512.3292"
        ],
        [
         "268",
         "Graham, Mrs. William Thompson (Edith Junkins)",
         "58.0",
         "153.4625"
        ],
        [
         "269",
         "Bissette, Miss. Amelia",
         "35.0",
         "135.6333"
        ],
        [
         "291",
         "Bishop, Mrs. Dickinson H (Helen Walton)",
         "19.0",
         "91.0792"
        ],
        [
         "297",
         "Allison, Miss. Helen Loraine",
         "2.0",
         "151.55"
        ],
        [
         "299",
         "Baxter, Mrs. James (Helene DeLaudeniere Chaput)",
         "50.0",
         "247.5208"
        ],
        [
         "305",
         "Allison, Master. Hudson Trevor",
         "0.92",
         "151.55"
        ],
        [
         "306",
         "Fleming, Miss. Margaret",
         null,
         "110.8833"
        ],
        [
         "307",
         "Penasco y Castellana, Mrs. Victor de Satode (Maria Josefa Perez de Soto y Vallejo)",
         "17.0",
         "108.9"
        ],
        [
         "311",
         "Ryerson, Miss. Emily Borie",
         "18.0",
         "262.375"
        ],
        [
         "318",
         "Wick, Miss. Mary Natalie",
         "31.0",
         "164.8667"
        ],
        [
         "319",
         "Spedden, Mrs. Frederic Oakley (Margaretta Corning Stone)",
         "40.0",
         "134.5"
        ],
        [
         "325",
         "Young, Miss. Marie Grice",
         "36.0",
         "135.6333"
        ],
        [
         "332",
         "Graham, Mr. George Edward",
         "38.0",
         "153.4625"
        ],
        [
         "334",
         "Frauenthal, Mrs. Henry William (Clara Heinsheimer)",
         null,
         "133.65"
        ],
        [
         "337",
         "Burns, Miss. Elizabeth Margaret",
         "41.0",
         "134.5"
        ],
        [
         "341",
         "Fortune, Miss. Alice Elizabeth",
         "24.0",
         "263.0"
        ],
        [
         "373",
         "Ringhini, Mr. Sante",
         "22.0",
         "135.6333"
        ],
        [
         "377",
         "Widener, Mr. Harry Elkins",
         "27.0",
         "211.5"
        ],
        [
         "380",
         "Bidois, Miss. Rosalie",
         "42.0",
         "227.525"
        ],
        [
         "390",
         "Carter, Mr. William Ernest",
         "36.0",
         "120.0"
        ],
        [
         "393",
         "Newell, Miss. Marjorie",
         "23.0",
         "113.275"
        ],
        [
         "412",
         "Minahan, Miss. Daisy E",
         "33.0",
         "90.0"
        ],
        [
         "435",
         "Carter, Miss. Lucile Polk",
         "14.0",
         "120.0"
        ],
        [
         "438",
         "Fortune, Mr. Mark",
         "64.0",
         "263.0"
        ],
        [
         "453",
         "Goldenberg, Mr. Samuel L",
         "49.0",
         "89.1042"
        ],
        [
         "484",
         "Bishop, Mr. Dickinson H",
         "25.0",
         "91.0792"
        ],
        [
         "486",
         "Hoyt, Mrs. Frederick Maxfield (Jane Anne Forby)",
         "35.0",
         "90.0"
        ],
        [
         "498",
         "Allison, Mrs. Hudson J C (Bessie Waldo Daniels)",
         "25.0",
         "151.55"
        ],
        [
         "504",
         "Maioni, Miss. Roberta",
         "16.0",
         "86.5"
        ],
        [
         "505",
         "Penasco y Castellana, Mr. Victor de Satode",
         "18.0",
         "108.9"
        ],
        [
         "520",
         "Perreault, Miss. Anne",
         "30.0",
         "93.5"
        ],
        [
         "527",
         "Farthing, Mr. John",
         null,
         "221.7792"
        ],
        [
         "537",
         "LeRoy, Miss. Bertha",
         "30.0",
         "106.425"
        ],
        [
         "544",
         "Douglas, Mr. Walter Donald",
         "50.0",
         "106.425"
        ],
        [
         "550",
         "Thayer, Mr. John Borland Jr",
         "17.0",
         "110.8833"
        ],
        [
         "557",
         "Robbins, Mr. Victor",
         null,
         "227.525"
        ],
        [
         "581",
         "Thayer, Mrs. John Borland (Marian Longstreth Morris)",
         "39.0",
         "110.8833"
        ],
        [
         "609",
         "Shutes, Miss. Elizabeth W",
         "40.0",
         "153.4625"
        ],
        [
         "659",
         "Newell, Mr. Arthur Webster",
         "58.0",
         "113.275"
        ],
        [
         "660",
         "Frauenthal, Dr. Henry William",
         "50.0",
         "133.65"
        ]
       ],
       "shape": {
        "columns": 3,
        "rows": 66
       }
      },
      "text/html": [
       "<div>\n",
       "<style scoped>\n",
       "    .dataframe tbody tr th:only-of-type {\n",
       "        vertical-align: middle;\n",
       "    }\n",
       "\n",
       "    .dataframe tbody tr th {\n",
       "        vertical-align: top;\n",
       "    }\n",
       "\n",
       "    .dataframe thead th {\n",
       "        text-align: right;\n",
       "    }\n",
       "</style>\n",
       "<table border=\"1\" class=\"dataframe\">\n",
       "  <thead>\n",
       "    <tr style=\"text-align: right;\">\n",
       "      <th></th>\n",
       "      <th>Name</th>\n",
       "      <th>Age</th>\n",
       "      <th>Fare</th>\n",
       "    </tr>\n",
       "  </thead>\n",
       "  <tbody>\n",
       "    <tr>\n",
       "      <th>27</th>\n",
       "      <td>Fortune, Mr. Charles Alexander</td>\n",
       "      <td>19.0</td>\n",
       "      <td>263.0000</td>\n",
       "    </tr>\n",
       "    <tr>\n",
       "      <th>31</th>\n",
       "      <td>Spencer, Mrs. William Augustus (Marie Eugenie)</td>\n",
       "      <td>NaN</td>\n",
       "      <td>146.5208</td>\n",
       "    </tr>\n",
       "    <tr>\n",
       "      <th>88</th>\n",
       "      <td>Fortune, Miss. Mabel Helen</td>\n",
       "      <td>23.0</td>\n",
       "      <td>263.0000</td>\n",
       "    </tr>\n",
       "    <tr>\n",
       "      <th>118</th>\n",
       "      <td>Baxter, Mr. Quigg Edmond</td>\n",
       "      <td>24.0</td>\n",
       "      <td>247.5208</td>\n",
       "    </tr>\n",
       "    <tr>\n",
       "      <th>195</th>\n",
       "      <td>Lurette, Miss. Elise</td>\n",
       "      <td>58.0</td>\n",
       "      <td>146.5208</td>\n",
       "    </tr>\n",
       "    <tr>\n",
       "      <th>...</th>\n",
       "      <td>...</td>\n",
       "      <td>...</td>\n",
       "      <td>...</td>\n",
       "    </tr>\n",
       "    <tr>\n",
       "      <th>779</th>\n",
       "      <td>Robert, Mrs. Edward Scott (Elisabeth Walton Mc...</td>\n",
       "      <td>43.0</td>\n",
       "      <td>211.3375</td>\n",
       "    </tr>\n",
       "    <tr>\n",
       "      <th>802</th>\n",
       "      <td>Carter, Master. William Thornton II</td>\n",
       "      <td>11.0</td>\n",
       "      <td>120.0000</td>\n",
       "    </tr>\n",
       "    <tr>\n",
       "      <th>820</th>\n",
       "      <td>Hays, Mrs. Charles Melville (Clara Jennings Gr...</td>\n",
       "      <td>52.0</td>\n",
       "      <td>93.5000</td>\n",
       "    </tr>\n",
       "    <tr>\n",
       "      <th>849</th>\n",
       "      <td>Goldenberg, Mrs. Samuel L (Edwiga Grabowska)</td>\n",
       "      <td>NaN</td>\n",
       "      <td>89.1042</td>\n",
       "    </tr>\n",
       "    <tr>\n",
       "      <th>856</th>\n",
       "      <td>Wick, Mrs. George Dennick (Mary Hitchcock)</td>\n",
       "      <td>45.0</td>\n",
       "      <td>164.8667</td>\n",
       "    </tr>\n",
       "  </tbody>\n",
       "</table>\n",
       "<p>66 rows × 3 columns</p>\n",
       "</div>"
      ],
      "text/plain": [
       "                                                  Name   Age      Fare\n",
       "27                      Fortune, Mr. Charles Alexander  19.0  263.0000\n",
       "31      Spencer, Mrs. William Augustus (Marie Eugenie)   NaN  146.5208\n",
       "88                          Fortune, Miss. Mabel Helen  23.0  263.0000\n",
       "118                           Baxter, Mr. Quigg Edmond  24.0  247.5208\n",
       "195                               Lurette, Miss. Elise  58.0  146.5208\n",
       "..                                                 ...   ...       ...\n",
       "779  Robert, Mrs. Edward Scott (Elisabeth Walton Mc...  43.0  211.3375\n",
       "802                Carter, Master. William Thornton II  11.0  120.0000\n",
       "820  Hays, Mrs. Charles Melville (Clara Jennings Gr...  52.0   93.5000\n",
       "849       Goldenberg, Mrs. Samuel L (Edwiga Grabowska)   NaN   89.1042\n",
       "856         Wick, Mrs. George Dennick (Mary Hitchcock)  45.0  164.8667\n",
       "\n",
       "[66 rows x 3 columns]"
      ]
     },
     "metadata": {},
     "output_type": "display_data"
    }
   ],
   "source": [
    "#  5. 1등급(Pclass == 1) 객실에 탑승한 승객들 중에서, 운임(Fare)이 평균보다 높은 사람들의 이름과 나이, 운임을 출력\n",
    "\n",
    "find_pclass_1 = titanic[titanic['Pclass'] == 1]\n",
    "find_pclass_1_mean = find_pclass_1['Fare'].mean()\n",
    "find_pclass_1_ober_mean = find_pclass_1[titanic['Fare'] > find_pclass_1_mean][['Name', 'Age', 'Fare']]\n",
    "\n",
    "display(find_pclass_1_ober_mean)\n"
   ]
  },
  {
   "cell_type": "code",
   "execution_count": 67,
   "id": "a0e68f9e",
   "metadata": {},
   "outputs": [
    {
     "data": {
      "application/vnd.microsoft.datawrangler.viewer.v0+json": {
       "columns": [
        {
         "name": "Pclass",
         "rawType": "int64",
         "type": "integer"
        },
        {
         "name": "mean",
         "rawType": "float64",
         "type": "float"
        },
        {
         "name": "median",
         "rawType": "float64",
         "type": "float"
        }
       ],
       "ref": "09876b63-107c-43bc-a01c-0f9a159631d5",
       "rows": [
        [
         "1",
         "87.96158225806452",
         "69.3"
        ],
        [
         "2",
         "21.471556069364162",
         "15.0458"
        ],
        [
         "3",
         "13.229435211267605",
         "8.05"
        ]
       ],
       "shape": {
        "columns": 2,
        "rows": 3
       }
      },
      "text/html": [
       "<div>\n",
       "<style scoped>\n",
       "    .dataframe tbody tr th:only-of-type {\n",
       "        vertical-align: middle;\n",
       "    }\n",
       "\n",
       "    .dataframe tbody tr th {\n",
       "        vertical-align: top;\n",
       "    }\n",
       "\n",
       "    .dataframe thead th {\n",
       "        text-align: right;\n",
       "    }\n",
       "</style>\n",
       "<table border=\"1\" class=\"dataframe\">\n",
       "  <thead>\n",
       "    <tr style=\"text-align: right;\">\n",
       "      <th></th>\n",
       "      <th>mean</th>\n",
       "      <th>median</th>\n",
       "    </tr>\n",
       "    <tr>\n",
       "      <th>Pclass</th>\n",
       "      <th></th>\n",
       "      <th></th>\n",
       "    </tr>\n",
       "  </thead>\n",
       "  <tbody>\n",
       "    <tr>\n",
       "      <th>1</th>\n",
       "      <td>87.961582</td>\n",
       "      <td>69.3000</td>\n",
       "    </tr>\n",
       "    <tr>\n",
       "      <th>2</th>\n",
       "      <td>21.471556</td>\n",
       "      <td>15.0458</td>\n",
       "    </tr>\n",
       "    <tr>\n",
       "      <th>3</th>\n",
       "      <td>13.229435</td>\n",
       "      <td>8.0500</td>\n",
       "    </tr>\n",
       "  </tbody>\n",
       "</table>\n",
       "</div>"
      ],
      "text/plain": [
       "             mean   median\n",
       "Pclass                    \n",
       "1       87.961582  69.3000\n",
       "2       21.471556  15.0458\n",
       "3       13.229435   8.0500"
      ]
     },
     "metadata": {},
     "output_type": "display_data"
    }
   ],
   "source": [
    "#  6. 나이(Age), 객실 등급(Pclass), 운임(Fare) 값에 결측치가 없는 승객들만 대상으로, 각 등급별 평균 운임과 중앙값 운임을 출력\n",
    "\n",
    "find_not_null = titanic.dropna(subset=['Age', 'Pclass', 'Fare'])\n",
    "find_mean_median = find_not_null.groupby('Pclass')['Fare'].agg(['mean', 'median'])\n",
    "\n",
    "display(find_mean_median)"
   ]
  },
  {
   "cell_type": "code",
   "execution_count": 82,
   "id": "792e2fab",
   "metadata": {},
   "outputs": [
    {
     "name": "stdout",
     "output_type": "stream",
     "text": [
      "0.33695652173913043\n"
     ]
    }
   ],
   "source": [
    "#  7. 승객들의 `Embarked` 별 평균 나이를 계산하고, 가장 많은 승객이 탑승한 항구를 기준으로 생존율을 계산하여 출력\n",
    "\n",
    "find_embarked_avg_age = titanic.groupby('Embarked')['Age'].mean()\n",
    "find_most_embarked = titanic['Embarked'].mode()[0]\n",
    "survival_rate_embarked = titanic[titanic['Embarked'] == find_most_embarked]['Survived'].mean()\n",
    "\n",
    "print(survival_rate_embarked)"
   ]
  },
  {
   "cell_type": "code",
   "execution_count": 85,
   "id": "e5fd541d",
   "metadata": {},
   "outputs": [
    {
     "name": "stdout",
     "output_type": "stream",
     "text": [
      "0.8070175438596491\n"
     ]
    }
   ],
   "source": [
    "#  8. 승객 중에서 여성(`Sex == 'female'`)이면서 30세 이상인 사람들의 생존율을 계산하여 출력\n",
    "\n",
    "find_female_over_30 = titanic[(titanic['Sex'] == 'female') & (titanic['Age'] >= 30)]\n",
    "find_survival_rate_female_over_30 = find_female_over_30['Survived'].mean()\n",
    "\n",
    "print(find_survival_rate_female_over_30)"
   ]
  },
  {
   "cell_type": "code",
   "execution_count": 89,
   "id": "64efce0d",
   "metadata": {},
   "outputs": [
    {
     "name": "stdout",
     "output_type": "stream",
     "text": [
      "0.34065934065934067\n"
     ]
    }
   ],
   "source": [
    "#  9. 동반한 형제 또는 배우자 수(`SibSp`)와 부모 또는 자녀 수(`Parch`)의 합이 3 이상인 승객들만을 대상으로, 그들의 생존율을 계산하여 출력\n",
    "\n",
    "find_sibsp_parch_over_3 = titanic[(titanic['SibSp'] + titanic['Parch']) >= 3]\n",
    "find_sibsp_parch_over_3_survival_rate = find_sibsp_parch_over_3['Survived'].mean()\n",
    "\n",
    "\n",
    "print(find_sibsp_parch_over_3_survival_rate)"
   ]
  },
  {
   "cell_type": "code",
   "execution_count": 91,
   "id": "aa32b6f8",
   "metadata": {},
   "outputs": [
    {
     "data": {
      "application/vnd.microsoft.datawrangler.viewer.v0+json": {
       "columns": [
        {
         "name": "index",
         "rawType": "int64",
         "type": "integer"
        },
        {
         "name": "Pclass",
         "rawType": "int64",
         "type": "integer"
        },
        {
         "name": "Survived",
         "rawType": "float64",
         "type": "float"
        }
       ],
       "ref": "13e0fcd6-bc8f-41de-bbcb-1d469b1470f2",
       "rows": [
        [
         "0",
         "1",
         "0.6647727272727273"
        ],
        [
         "1",
         "2",
         "0.8125"
        ],
        [
         "2",
         "3",
         "0.5"
        ]
       ],
       "shape": {
        "columns": 2,
        "rows": 3
       }
      },
      "text/html": [
       "<div>\n",
       "<style scoped>\n",
       "    .dataframe tbody tr th:only-of-type {\n",
       "        vertical-align: middle;\n",
       "    }\n",
       "\n",
       "    .dataframe tbody tr th {\n",
       "        vertical-align: top;\n",
       "    }\n",
       "\n",
       "    .dataframe thead th {\n",
       "        text-align: right;\n",
       "    }\n",
       "</style>\n",
       "<table border=\"1\" class=\"dataframe\">\n",
       "  <thead>\n",
       "    <tr style=\"text-align: right;\">\n",
       "      <th></th>\n",
       "      <th>Pclass</th>\n",
       "      <th>Survived</th>\n",
       "    </tr>\n",
       "  </thead>\n",
       "  <tbody>\n",
       "    <tr>\n",
       "      <th>0</th>\n",
       "      <td>1</td>\n",
       "      <td>0.664773</td>\n",
       "    </tr>\n",
       "    <tr>\n",
       "      <th>1</th>\n",
       "      <td>2</td>\n",
       "      <td>0.812500</td>\n",
       "    </tr>\n",
       "    <tr>\n",
       "      <th>2</th>\n",
       "      <td>3</td>\n",
       "      <td>0.500000</td>\n",
       "    </tr>\n",
       "  </tbody>\n",
       "</table>\n",
       "</div>"
      ],
      "text/plain": [
       "   Pclass  Survived\n",
       "0       1  0.664773\n",
       "1       2  0.812500\n",
       "2       3  0.500000"
      ]
     },
     "metadata": {},
     "output_type": "display_data"
    }
   ],
   "source": [
    "#  10. `Cabin`(객실 번호) 정보가 있는 승객들만을 대상으로, 그들의 생존율을 객실 등급별로 구분하여 계산하여 출력\n",
    "\n",
    "find_cabin_has_impo = titanic[titanic['Cabin'].notna()]\n",
    "find_survival_rate_has_impr = find_cabin_has_impo.groupby('Pclass')['Survived'].mean().reset_index()\n",
    "\n",
    "display(find_survival_rate_has_impr)\n"
   ]
  }
 ],
 "metadata": {
  "kernelspec": {
   "display_name": "pystudy_env",
   "language": "python",
   "name": "python3"
  },
  "language_info": {
   "codemirror_mode": {
    "name": "ipython",
    "version": 3
   },
   "file_extension": ".py",
   "mimetype": "text/x-python",
   "name": "python",
   "nbconvert_exporter": "python",
   "pygments_lexer": "ipython3",
   "version": "3.12.11"
  }
 },
 "nbformat": 4,
 "nbformat_minor": 5
}

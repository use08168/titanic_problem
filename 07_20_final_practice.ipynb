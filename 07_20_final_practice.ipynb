{
 "cells": [
  {
   "cell_type": "markdown",
   "metadata": {},
   "source": [
    "### 최종 실습 프로젝트\n",
    "- ecommerce_sales_data.csv 파일 활용"
   ]
  },
  {
   "cell_type": "markdown",
   "metadata": {},
   "source": [
    "당신은 한 온라인 쇼핑몰의 데이터 분석가로 고용되었다. 쇼핑몰의 판매 데이터를 분석하여 고객의 구매 패턴을 파악하고, 중요한 인사이트를 도출하는 것이 이번 프로젝트의 목표다. 이를 통해 향후 마케팅 전략을 제시하고자 한다. ecommerce_sales_data.csv 파일을 통해 주어진 데이터는 고객의 주문 기록, 상품 정보, 판매 데이터 등을 포함하고 있다. 주어진 데이터를 분석하여 아래의 질문에 답하라."
   ]
  },
  {
   "cell_type": "markdown",
   "metadata": {},
   "source": [
    "- **데이터 설명**:\n",
    "    - **OrderID**: 주문 ID\n",
    "    - **Product**: 주문한 상품 이름\n",
    "    - **Category**: 상품의 카테고리 (예: Electronics, Clothing 등)\n",
    "    - **Quantity**: 주문 수량\n",
    "    - **Price**: 상품의 가격\n",
    "    - **CustomerID**: 고객 ID\n",
    "    - **BirthDate**: 고객 생일\n",
    "    - **OrderDate**: 주문 날짜\n",
    "    - **Country**: 주문한 고객의 국가\n",
    "    - **DiscountRate**: 할인율"
   ]
  },
  {
   "cell_type": "code",
   "execution_count": 59,
   "metadata": {},
   "outputs": [
    {
     "data": {
      "application/vnd.microsoft.datawrangler.viewer.v0+json": {
       "columns": [
        {
         "name": "index",
         "rawType": "int64",
         "type": "integer"
        },
        {
         "name": "OrderID",
         "rawType": "int64",
         "type": "integer"
        },
        {
         "name": "Product",
         "rawType": "object",
         "type": "string"
        },
        {
         "name": "Category",
         "rawType": "object",
         "type": "string"
        },
        {
         "name": "Quantity",
         "rawType": "int64",
         "type": "integer"
        },
        {
         "name": "Price",
         "rawType": "int64",
         "type": "integer"
        },
        {
         "name": "CustomerID",
         "rawType": "int64",
         "type": "integer"
        },
        {
         "name": "Birthdate",
         "rawType": "object",
         "type": "string"
        },
        {
         "name": "OrderDate",
         "rawType": "object",
         "type": "string"
        },
        {
         "name": "Country",
         "rawType": "object",
         "type": "string"
        },
        {
         "name": "DiscountRate",
         "rawType": "float64",
         "type": "float"
        }
       ],
       "ref": "078c7342-26e7-42b7-90bd-f867f1807d45",
       "rows": [
        [
         "0",
         "1",
         "역사책",
         "Books",
         "5",
         "37000",
         "1071",
         "1980-08-08",
         "2024-06-10 17:18",
         "미국",
         "0.14"
        ],
        [
         "1",
         "2",
         "셔츠",
         "Clothing",
         "5",
         "20000",
         "1526",
         "1967-08-09",
         "2023-11-18 18:45",
         "독일",
         "0.29"
        ],
        [
         "2",
         "3",
         "노트북",
         "Electronics",
         "4",
         "8000",
         "1252",
         "1973-04-07",
         "2023-10-15 11:19",
         "중국",
         "0.23"
        ],
        [
         "3",
         "4",
         "자전거",
         "Sports",
         "1",
         "8000",
         "1670",
         "1970-04-08",
         "2024-07-19 2:19",
         "일본",
         "0.2"
        ],
        [
         "4",
         "5",
         "헤드폰",
         "Electronics",
         "3",
         "26000",
         "1838",
         "1992-05-19",
         "2024-01-20 20:34",
         "대한민국",
         "0.09"
        ],
        [
         "5",
         "6",
         "셔츠",
         "Clothing",
         "5",
         "8000",
         "1049",
         "1970-01-29",
         "2024-01-09 8:49",
         "대한민국",
         "0.09"
        ],
        [
         "6",
         "7",
         "향수",
         "Beauty",
         "1",
         "20000",
         "1093",
         "1989-11-25",
         "2023-12-31 16:07",
         "일본",
         "0.06"
        ],
        [
         "7",
         "8",
         "립스틱",
         "Beauty",
         "3",
         "15000",
         "1500",
         "1998-09-11",
         "2023-11-29 0:49",
         "일본",
         "0.27"
        ],
        [
         "8",
         "9",
         "비즈니스",
         "Books",
         "3",
         "5000",
         "1810",
         "1976-09-04",
         "2024-07-18 5:56",
         "일본",
         "0.2"
        ],
        [
         "9",
         "10",
         "샴푸",
         "Beauty",
         "2",
         "17000",
         "1914",
         "1996-01-31",
         "2023-11-14 15:35",
         "중국",
         "0.23"
        ],
        [
         "10",
         "11",
         "과학책",
         "Books",
         "5",
         "14000",
         "1616",
         "1989-08-12",
         "2024-06-24 1:58",
         "일본",
         "0.06"
        ],
        [
         "11",
         "12",
         "스마트폰",
         "Electronics",
         "4",
         "38000",
         "1248",
         "1987-12-27",
         "2024-07-19 17:12",
         "미국",
         "0.29"
        ],
        [
         "12",
         "13",
         "화장품",
         "Beauty",
         "1",
         "49000",
         "1034",
         "1969-05-13",
         "2024-09-16 17:13",
         "중국",
         "0.1"
        ],
        [
         "13",
         "14",
         "비즈니스",
         "Books",
         "3",
         "5000",
         "1719",
         "1983-03-22",
         "2024-05-04 23:49",
         "독일",
         "0.1"
        ],
        [
         "14",
         "15",
         "스마트폰",
         "Electronics",
         "2",
         "18000",
         "1206",
         "1972-11-15",
         "2023-11-08 4:25",
         "미국",
         "0.1"
        ],
        [
         "15",
         "16",
         "축구공",
         "Sports",
         "3",
         "16000",
         "1146",
         "1964-09-26",
         "2024-05-22 19:18",
         "일본",
         "0.1"
        ],
        [
         "16",
         "17",
         "과자",
         "Food",
         "3",
         "12000",
         "1943",
         "1997-05-11",
         "2024-03-17 20:30",
         "중국",
         "0.13"
        ],
        [
         "17",
         "18",
         "축구공",
         "Sports",
         "2",
         "29000",
         "1271",
         "2004-04-06",
         "2023-10-18 1:49",
         "중국",
         "0.13"
        ],
        [
         "18",
         "19",
         "축구공",
         "Sports",
         "1",
         "9000",
         "1398",
         "1998-12-13",
         "2023-10-17 5:35",
         "중국",
         "0.13"
        ],
        [
         "19",
         "20",
         "과자",
         "Food",
         "1",
         "14000",
         "1418",
         "1990-03-25",
         "2023-11-11 20:59",
         "중국",
         "0.12"
        ],
        [
         "20",
         "21",
         "주스",
         "Food",
         "5",
         "21000",
         "1078",
         "1992-09-29",
         "2023-12-29 17:54",
         "중국",
         "0.2"
        ],
        [
         "21",
         "22",
         "과학책",
         "Books",
         "3",
         "27000",
         "1437",
         "1971-02-16",
         "2024-01-04 11:13",
         "대한민국",
         "0.14"
        ],
        [
         "22",
         "23",
         "립스틱",
         "Beauty",
         "3",
         "44000",
         "1429",
         "1980-01-31",
         "2024-04-19 8:42",
         "미국",
         "0.29"
        ],
        [
         "23",
         "24",
         "헤드폰",
         "Electronics",
         "4",
         "31000",
         "1793",
         "1971-06-25",
         "2024-05-26 20:19",
         "미국",
         "0.23"
        ],
        [
         "24",
         "25",
         "노트북",
         "Electronics",
         "3",
         "50000",
         "1982",
         "1998-12-05",
         "2023-10-16 10:11",
         "미국",
         "0.2"
        ],
        [
         "25",
         "26",
         "자전거",
         "Sports",
         "5",
         "7000",
         "1156",
         "1978-01-08",
         "2024-05-10 12:22",
         "일본",
         "0.09"
        ],
        [
         "26",
         "27",
         "과자",
         "Food",
         "2",
         "23000",
         "1221",
         "1990-05-14",
         "2023-12-22 1:33",
         "일본",
         "0.09"
        ],
        [
         "27",
         "28",
         "라면",
         "Food",
         "3",
         "47000",
         "1038",
         "1992-05-04",
         "2024-07-10 1:30",
         "미국",
         "0.06"
        ],
        [
         "28",
         "29",
         "스마트워치",
         "Electronics",
         "4",
         "10000",
         "1264",
         "1974-03-31",
         "2024-06-14 1:43",
         "미국",
         "0.27"
        ],
        [
         "29",
         "30",
         "자전거",
         "Sports",
         "4",
         "5000",
         "1668",
         "1978-04-10",
         "2024-07-04 2:03",
         "미국",
         "0.2"
        ],
        [
         "30",
         "31",
         "운동화",
         "Sports",
         "3",
         "30000",
         "1410",
         "1976-11-28",
         "2024-05-04 19:18",
         "중국",
         "0.23"
        ],
        [
         "31",
         "32",
         "역사책",
         "Books",
         "3",
         "50000",
         "1329",
         "1976-07-27",
         "2024-03-16 2:19",
         "일본",
         "0.06"
        ],
        [
         "32",
         "33",
         "초콜릿",
         "Food",
         "5",
         "47000",
         "1007",
         "1999-04-27",
         "2023-12-30 12:13",
         "일본",
         "0.29"
        ],
        [
         "33",
         "34",
         "스웨터",
         "Clothing",
         "4",
         "25000",
         "1967",
         "1993-05-28",
         "2024-03-28 15:40",
         "대한민국",
         "0.16"
        ],
        [
         "34",
         "35",
         "향수",
         "Beauty",
         "5",
         "18000",
         "1640",
         "1982-06-30",
         "2024-05-21 23:33",
         "중국",
         "0.29"
        ],
        [
         "35",
         "36",
         "자기계발",
         "Books",
         "5",
         "11000",
         "1494",
         "1977-12-25",
         "2024-01-22 4:10",
         "중국",
         "0.25"
        ],
        [
         "36",
         "37",
         "커피",
         "Food",
         "5",
         "29000",
         "1621",
         "1984-09-29",
         "2024-08-15 1:12",
         "대한민국",
         "0.12"
        ],
        [
         "37",
         "38",
         "청바지",
         "Clothing",
         "1",
         "32000",
         "1764",
         "2002-09-26",
         "2024-09-07 4:09",
         "독일",
         "0.07"
        ],
        [
         "38",
         "39",
         "향수",
         "Beauty",
         "4",
         "15000",
         "1941",
         "1980-11-30",
         "2023-10-08 5:49",
         "대한민국",
         "0.06"
        ],
        [
         "39",
         "40",
         "소설",
         "Books",
         "1",
         "47000",
         "1496",
         "1964-08-29",
         "2024-07-26 23:55",
         "중국",
         "0.27"
        ],
        [
         "40",
         "41",
         "립스틱",
         "Beauty",
         "4",
         "34000",
         "1896",
         "1986-04-23",
         "2024-08-13 22:56",
         "미국",
         "0.2"
        ],
        [
         "41",
         "42",
         "자켓",
         "Clothing",
         "2",
         "6000",
         "1136",
         "1970-01-11",
         "2023-12-07 14:37",
         "독일",
         "0.23"
        ],
        [
         "42",
         "43",
         "청바지",
         "Clothing",
         "5",
         "8000",
         "1278",
         "1971-04-01",
         "2024-07-03 9:17",
         "미국",
         "0.06"
        ],
        [
         "43",
         "44",
         "소설",
         "Books",
         "2",
         "23000",
         "1940",
         "1972-03-16",
         "2024-03-18 19:47",
         "미국",
         "0.28"
        ],
        [
         "44",
         "45",
         "소설",
         "Books",
         "3",
         "6000",
         "1370",
         "1983-07-24",
         "2024-02-15 13:32",
         "대한민국",
         "0.06"
        ],
        [
         "45",
         "46",
         "스웨터",
         "Clothing",
         "2",
         "27000",
         "1047",
         "1987-06-06",
         "2024-01-21 4:51",
         "중국",
         "0.27"
        ],
        [
         "46",
         "47",
         "초콜릿",
         "Food",
         "1",
         "17000",
         "1673",
         "1998-09-29",
         "2023-12-05 23:14",
         "중국",
         "0.2"
        ],
        [
         "47",
         "48",
         "로션",
         "Beauty",
         "1",
         "13000",
         "1434",
         "1964-12-03",
         "2023-12-28 18:05",
         "일본",
         "0.23"
        ],
        [
         "48",
         "49",
         "태블릿",
         "Electronics",
         "4",
         "24000",
         "1501",
         "1992-05-20",
         "2024-07-28 17:01",
         "대한민국",
         "0.29"
        ],
        [
         "49",
         "50",
         "립스틱",
         "Beauty",
         "5",
         "7000",
         "1611",
         "1986-03-31",
         "2024-02-13 8:40",
         "중국",
         "0.24"
        ]
       ],
       "shape": {
        "columns": 10,
        "rows": 120
       }
      },
      "text/html": [
       "<div>\n",
       "<style scoped>\n",
       "    .dataframe tbody tr th:only-of-type {\n",
       "        vertical-align: middle;\n",
       "    }\n",
       "\n",
       "    .dataframe tbody tr th {\n",
       "        vertical-align: top;\n",
       "    }\n",
       "\n",
       "    .dataframe thead th {\n",
       "        text-align: right;\n",
       "    }\n",
       "</style>\n",
       "<table border=\"1\" class=\"dataframe\">\n",
       "  <thead>\n",
       "    <tr style=\"text-align: right;\">\n",
       "      <th></th>\n",
       "      <th>OrderID</th>\n",
       "      <th>Product</th>\n",
       "      <th>Category</th>\n",
       "      <th>Quantity</th>\n",
       "      <th>Price</th>\n",
       "      <th>CustomerID</th>\n",
       "      <th>Birthdate</th>\n",
       "      <th>OrderDate</th>\n",
       "      <th>Country</th>\n",
       "      <th>DiscountRate</th>\n",
       "    </tr>\n",
       "  </thead>\n",
       "  <tbody>\n",
       "    <tr>\n",
       "      <th>0</th>\n",
       "      <td>1</td>\n",
       "      <td>역사책</td>\n",
       "      <td>Books</td>\n",
       "      <td>5</td>\n",
       "      <td>37000</td>\n",
       "      <td>1071</td>\n",
       "      <td>1980-08-08</td>\n",
       "      <td>2024-06-10 17:18</td>\n",
       "      <td>미국</td>\n",
       "      <td>0.14</td>\n",
       "    </tr>\n",
       "    <tr>\n",
       "      <th>1</th>\n",
       "      <td>2</td>\n",
       "      <td>셔츠</td>\n",
       "      <td>Clothing</td>\n",
       "      <td>5</td>\n",
       "      <td>20000</td>\n",
       "      <td>1526</td>\n",
       "      <td>1967-08-09</td>\n",
       "      <td>2023-11-18 18:45</td>\n",
       "      <td>독일</td>\n",
       "      <td>0.29</td>\n",
       "    </tr>\n",
       "    <tr>\n",
       "      <th>2</th>\n",
       "      <td>3</td>\n",
       "      <td>노트북</td>\n",
       "      <td>Electronics</td>\n",
       "      <td>4</td>\n",
       "      <td>8000</td>\n",
       "      <td>1252</td>\n",
       "      <td>1973-04-07</td>\n",
       "      <td>2023-10-15 11:19</td>\n",
       "      <td>중국</td>\n",
       "      <td>0.23</td>\n",
       "    </tr>\n",
       "    <tr>\n",
       "      <th>3</th>\n",
       "      <td>4</td>\n",
       "      <td>자전거</td>\n",
       "      <td>Sports</td>\n",
       "      <td>1</td>\n",
       "      <td>8000</td>\n",
       "      <td>1670</td>\n",
       "      <td>1970-04-08</td>\n",
       "      <td>2024-07-19 2:19</td>\n",
       "      <td>일본</td>\n",
       "      <td>0.20</td>\n",
       "    </tr>\n",
       "    <tr>\n",
       "      <th>4</th>\n",
       "      <td>5</td>\n",
       "      <td>헤드폰</td>\n",
       "      <td>Electronics</td>\n",
       "      <td>3</td>\n",
       "      <td>26000</td>\n",
       "      <td>1838</td>\n",
       "      <td>1992-05-19</td>\n",
       "      <td>2024-01-20 20:34</td>\n",
       "      <td>대한민국</td>\n",
       "      <td>0.09</td>\n",
       "    </tr>\n",
       "    <tr>\n",
       "      <th>...</th>\n",
       "      <td>...</td>\n",
       "      <td>...</td>\n",
       "      <td>...</td>\n",
       "      <td>...</td>\n",
       "      <td>...</td>\n",
       "      <td>...</td>\n",
       "      <td>...</td>\n",
       "      <td>...</td>\n",
       "      <td>...</td>\n",
       "      <td>...</td>\n",
       "    </tr>\n",
       "    <tr>\n",
       "      <th>115</th>\n",
       "      <td>116</td>\n",
       "      <td>스마트워치</td>\n",
       "      <td>Electronics</td>\n",
       "      <td>1</td>\n",
       "      <td>33000</td>\n",
       "      <td>1508</td>\n",
       "      <td>1971-01-02</td>\n",
       "      <td>2024-03-01 16:57</td>\n",
       "      <td>독일</td>\n",
       "      <td>0.20</td>\n",
       "    </tr>\n",
       "    <tr>\n",
       "      <th>116</th>\n",
       "      <td>117</td>\n",
       "      <td>스마트워치</td>\n",
       "      <td>Electronics</td>\n",
       "      <td>4</td>\n",
       "      <td>41000</td>\n",
       "      <td>1645</td>\n",
       "      <td>1975-03-15</td>\n",
       "      <td>2024-01-18 21:37</td>\n",
       "      <td>대한민국</td>\n",
       "      <td>0.09</td>\n",
       "    </tr>\n",
       "    <tr>\n",
       "      <th>117</th>\n",
       "      <td>118</td>\n",
       "      <td>태블릿</td>\n",
       "      <td>Electronics</td>\n",
       "      <td>1</td>\n",
       "      <td>33000</td>\n",
       "      <td>1433</td>\n",
       "      <td>1965-02-01</td>\n",
       "      <td>2024-09-29 12:27</td>\n",
       "      <td>독일</td>\n",
       "      <td>0.09</td>\n",
       "    </tr>\n",
       "    <tr>\n",
       "      <th>118</th>\n",
       "      <td>119</td>\n",
       "      <td>청바지</td>\n",
       "      <td>Clothing</td>\n",
       "      <td>2</td>\n",
       "      <td>43000</td>\n",
       "      <td>1497</td>\n",
       "      <td>1980-04-02</td>\n",
       "      <td>2024-06-10 9:01</td>\n",
       "      <td>독일</td>\n",
       "      <td>0.06</td>\n",
       "    </tr>\n",
       "    <tr>\n",
       "      <th>119</th>\n",
       "      <td>120</td>\n",
       "      <td>과자</td>\n",
       "      <td>Food</td>\n",
       "      <td>1</td>\n",
       "      <td>48000</td>\n",
       "      <td>1951</td>\n",
       "      <td>1989-11-28</td>\n",
       "      <td>2024-06-29 10:28</td>\n",
       "      <td>미국</td>\n",
       "      <td>0.27</td>\n",
       "    </tr>\n",
       "  </tbody>\n",
       "</table>\n",
       "<p>120 rows × 10 columns</p>\n",
       "</div>"
      ],
      "text/plain": [
       "     OrderID Product     Category  Quantity  Price  CustomerID   Birthdate  \\\n",
       "0          1     역사책        Books         5  37000        1071  1980-08-08   \n",
       "1          2      셔츠     Clothing         5  20000        1526  1967-08-09   \n",
       "2          3     노트북  Electronics         4   8000        1252  1973-04-07   \n",
       "3          4     자전거       Sports         1   8000        1670  1970-04-08   \n",
       "4          5     헤드폰  Electronics         3  26000        1838  1992-05-19   \n",
       "..       ...     ...          ...       ...    ...         ...         ...   \n",
       "115      116   스마트워치  Electronics         1  33000        1508  1971-01-02   \n",
       "116      117   스마트워치  Electronics         4  41000        1645  1975-03-15   \n",
       "117      118     태블릿  Electronics         1  33000        1433  1965-02-01   \n",
       "118      119     청바지     Clothing         2  43000        1497  1980-04-02   \n",
       "119      120      과자         Food         1  48000        1951  1989-11-28   \n",
       "\n",
       "            OrderDate Country  DiscountRate  \n",
       "0    2024-06-10 17:18      미국          0.14  \n",
       "1    2023-11-18 18:45      독일          0.29  \n",
       "2    2023-10-15 11:19      중국          0.23  \n",
       "3     2024-07-19 2:19      일본          0.20  \n",
       "4    2024-01-20 20:34    대한민국          0.09  \n",
       "..                ...     ...           ...  \n",
       "115  2024-03-01 16:57      독일          0.20  \n",
       "116  2024-01-18 21:37    대한민국          0.09  \n",
       "117  2024-09-29 12:27      독일          0.09  \n",
       "118   2024-06-10 9:01      독일          0.06  \n",
       "119  2024-06-29 10:28      미국          0.27  \n",
       "\n",
       "[120 rows x 10 columns]"
      ]
     },
     "metadata": {},
     "output_type": "display_data"
    }
   ],
   "source": [
    "import pandas as pd\n",
    "import numpy as  np\n",
    "import matplotlib.pyplot as plt\n",
    "\n",
    "eco_data = pd.read_csv('./data/ecommerce_sales_data.csv')\n",
    "display(eco_data)"
   ]
  },
  {
   "cell_type": "markdown",
   "metadata": {},
   "source": [
    "1. **데이터 탐색 및 전처리**\n",
    "    1. 데이터셋을 로드하고 상위 5개의 데이터를 출력하세요.\n",
    "    2. 결측값이 있는 열이 있는지 확인하고, 결측값이 있는 경우 적절한 방법으로 처리하세요.\n",
    "    3. 각 열의 데이터 타입을 확인하고, **OrderDate** 열을 datetime 형식으로 변환하세요."
   ]
  },
  {
   "cell_type": "code",
   "execution_count": 60,
   "metadata": {},
   "outputs": [
    {
     "name": "stdout",
     "output_type": "stream",
     "text": [
      "    OrderID Product Category  Quantity  Price  CustomerID   Birthdate  \\\n",
      "52       53     초콜릿     Food         5  33000        1029  1990-01-03   \n",
      "\n",
      "           OrderDate Country  DiscountRate  \n",
      "52  2024-03-01 22:02      독일      0.174091  \n",
      "OrderID           int64\n",
      "Product          object\n",
      "Category         object\n",
      "Quantity          int64\n",
      "Price             int64\n",
      "CustomerID        int64\n",
      "Birthdate        object\n",
      "OrderDate        object\n",
      "Country          object\n",
      "DiscountRate    float64\n",
      "dtype: object OrderID                  int64\n",
      "Product                 object\n",
      "Category                object\n",
      "Quantity                 int64\n",
      "Price                    int64\n",
      "CustomerID               int64\n",
      "Birthdate               object\n",
      "OrderDate       datetime64[ns]\n",
      "Country                 object\n",
      "DiscountRate           float64\n",
      "dtype: object\n"
     ]
    }
   ],
   "source": [
    "find_top_5 = eco_data.head()\n",
    "#print(find_top_5) # 상위 5개 출력\n",
    "#print(eco_data.count()) # 독일 초콜릿에서 discountRate에 1건의 누락 발견\n",
    "\n",
    "food_discount_mean = eco_data[eco_data['Category'] == 'Food']['DiscountRate'].mean()\n",
    "eco_data['DiscountRate'] = eco_data['DiscountRate'].mask(eco_data['DiscountRate'].isnull(), food_discount_mean)\n",
    "eco_data.isnull().sum() # 음식의 discountRate의 평균으로 대체\n",
    "print(eco_data[(eco_data[\"Country\"] == \"독일\") & (eco_data[\"Product\"] == \"초콜릿\")])\n",
    "\n",
    "dtypes_before = eco_data.dtypes # 데이터 타입 확인\n",
    "eco_data['OrderDate'] = pd.to_datetime(eco_data['OrderDate']) # 데이터 변경\n",
    "dtypes_after = eco_data.dtypes # 데이터 변경확인\n",
    "print(dtypes_before, dtypes_after)\n"
   ]
  },
  {
   "cell_type": "markdown",
   "metadata": {},
   "source": [
    "2. **매출 분석**\n",
    "    1. **매출액**(총 판매 금액)을 계산하는 새로운 열 `TotalRevenue`를 생성하세요.\n",
    "        - 매출액 = `Quantity` * `Price`\n",
    "    2. 월별 총 매출액을 집계하여 시각화하세요.\n",
    "        - 힌트: `resample()`을 사용하여 월별로 데이터를 집계하세요.\n",
    "    3. 카테고리별로 매출액이 가장 높은 상위 3개의 카테고리를 구하세요.\n",
    "    4. 국가별 총 매출액을 계산하고, 매출액이 가장 높은 5개 국가를 출력하세요."
   ]
  },
  {
   "cell_type": "code",
   "execution_count": 61,
   "metadata": {},
   "outputs": [
    {
     "name": "stderr",
     "output_type": "stream",
     "text": [
      "C:\\Users\\김준협\\AppData\\Local\\Temp\\ipykernel_29716\\1523513531.py:5: FutureWarning: 'M' is deprecated and will be removed in a future version, please use 'ME' instead.\n",
      "  monthly_revenue = eco_data['TotalRevenue'].resample('M').sum()\n"
     ]
    },
    {
     "data": {
      "image/png": "[encoded data removed]",
      "text/plain": [
       "<Figure size 1000x600 with 1 Axes>"
      ]
     },
     "metadata": {},
     "output_type": "display_data"
    },
    {
     "data": {
      "application/vnd.microsoft.datawrangler.viewer.v0+json": {
       "columns": [
        {
         "name": "Category",
         "rawType": "object",
         "type": "string"
        },
        {
         "name": "TotalRevenue",
         "rawType": "int64",
         "type": "integer"
        }
       ],
       "ref": "2de863df-7950-4139-b096-fc1830c61bd2",
       "rows": [
        [
         "Food",
         "1966000"
        ],
        [
         "Electronics",
         "1746000"
        ],
        [
         "Beauty",
         "1493000"
        ]
       ],
       "shape": {
        "columns": 1,
        "rows": 3
       }
      },
      "text/plain": [
       "Category\n",
       "Food           1966000\n",
       "Electronics    1746000\n",
       "Beauty         1493000\n",
       "Name: TotalRevenue, dtype: int64"
      ]
     },
     "metadata": {},
     "output_type": "display_data"
    },
    {
     "data": {
      "application/vnd.microsoft.datawrangler.viewer.v0+json": {
       "columns": [
        {
         "name": "Country",
         "rawType": "object",
         "type": "string"
        },
        {
         "name": "TotalRevenue",
         "rawType": "int64",
         "type": "integer"
        }
       ],
       "ref": "852dcdbf-4e92-4d79-ac23-2f996795aaac",
       "rows": [
        [
         "미국",
         "2238000"
        ],
        [
         "독일",
         "1973000"
        ],
        [
         "중국",
         "1766000"
        ],
        [
         "일본",
         "1523000"
        ],
        [
         "대한민국",
         "1419000"
        ]
       ],
       "shape": {
        "columns": 1,
        "rows": 5
       }
      },
      "text/plain": [
       "Country\n",
       "미국      2238000\n",
       "독일      1973000\n",
       "중국      1766000\n",
       "일본      1523000\n",
       "대한민국    1419000\n",
       "Name: TotalRevenue, dtype: int64"
      ]
     },
     "metadata": {},
     "output_type": "display_data"
    }
   ],
   "source": [
    "eco_data['TotalRevenue'] = eco_data['Quantity'] * eco_data['Price']\n",
    "eco_data[['Quantity', 'Price', 'TotalRevenue']].head() # 결과 확인\n",
    "\n",
    "eco_data.set_index('OrderDate', inplace=True)\n",
    "monthly_revenue = eco_data['TotalRevenue'].resample('M').sum()\n",
    "\n",
    "plt.figure(figsize=(10, 6))\n",
    "plt.plot(monthly_revenue.index, monthly_revenue.values, marker='o')\n",
    "plt.title('Month Total Profit')\n",
    "plt.xlabel('Month')\n",
    "plt.ylabel('Total Profit')\n",
    "plt.grid(True)\n",
    "plt.show() #월 별 데이터 집계\n",
    "\n",
    "category_totalRevenue = eco_data.groupby('Category')['TotalRevenue'].sum()\n",
    "top_3_category = category_totalRevenue.sort_values(ascending=False).head(3)\n",
    "display(top_3_category)\n",
    "\n",
    "country_revenue = eco_data.groupby('Country')['TotalRevenue'].sum()\n",
    "top_5_country = country_revenue.sort_values(ascending=False).head(5)\n",
    "display(top_5_country)"
   ]
  },
  {
   "cell_type": "markdown",
   "metadata": {},
   "source": [
    "3. **고객 분석**\n",
    "    1. 고객별로 총 매출액을 계산한 후, 상위 5명의 고객을 출력하세요.\n",
    "    2. 주문 횟수가 가장 많은 상위 5명의 고객을 출력하세요.\n",
    "    3. **연령대**에 따라 고객을 분류하고, 각 연령대별로 가장 많이 구매한 상품의 카테고리를 구하세요.\n",
    "        - 힌트: 고객의 연령대는 따로 제공되지 않으므로, 가정 데이터를 추가해 임의로 분류할 수 있습니다."
   ]
  },
  {
   "cell_type": "code",
   "execution_count": 62,
   "metadata": {},
   "outputs": [
    {
     "data": {
      "application/vnd.microsoft.datawrangler.viewer.v0+json": {
       "columns": [
        {
         "name": "CustomerID",
         "rawType": "int64",
         "type": "integer"
        },
        {
         "name": "TotalRevenue",
         "rawType": "int64",
         "type": "integer"
        }
       ],
       "ref": "fc394b30-8ccf-42ac-8798-d91604bc5609",
       "rows": [
        [
         "1007",
         "334000"
        ],
        [
         "1354",
         "245000"
        ],
        [
         "1141",
         "241000"
        ],
        [
         "1589",
         "215000"
        ],
        [
         "1632",
         "192000"
        ]
       ],
       "shape": {
        "columns": 1,
        "rows": 5
       }
      },
      "text/plain": [
       "CustomerID\n",
       "1007    334000\n",
       "1354    245000\n",
       "1141    241000\n",
       "1589    215000\n",
       "1632    192000\n",
       "Name: TotalRevenue, dtype: int64"
      ]
     },
     "metadata": {},
     "output_type": "display_data"
    },
    {
     "data": {
      "application/vnd.microsoft.datawrangler.viewer.v0+json": {
       "columns": [
        {
         "name": "CustomerID",
         "rawType": "int64",
         "type": "integer"
        },
        {
         "name": "count",
         "rawType": "int64",
         "type": "integer"
        }
       ],
       "ref": "f47bb36f-1b83-4cf1-a383-7b2f63b2eb05",
       "rows": [
        [
         "1206",
         "2"
        ],
        [
         "1278",
         "2"
        ],
        [
         "1496",
         "2"
        ],
        [
         "1007",
         "2"
        ],
        [
         "1673",
         "2"
        ]
       ],
       "shape": {
        "columns": 1,
        "rows": 5
       }
      },
      "text/plain": [
       "CustomerID\n",
       "1206    2\n",
       "1278    2\n",
       "1496    2\n",
       "1007    2\n",
       "1673    2\n",
       "Name: count, dtype: int64"
      ]
     },
     "metadata": {},
     "output_type": "display_data"
    },
    {
     "data": {
      "application/vnd.microsoft.datawrangler.viewer.v0+json": {
       "columns": [
        {
         "name": "AgeGroup",
         "rawType": "object",
         "type": "string"
        },
        {
         "name": "Category",
         "rawType": "object",
         "type": "string"
        }
       ],
       "ref": "42278886-de9f-4223-8ec2-5124532200bc",
       "rows": [
        [
         "20대",
         "Beauty"
        ],
        [
         "30대",
         "Food"
        ],
        [
         "40대",
         "Books"
        ],
        [
         "50대",
         "Electronics"
        ],
        [
         "60대 이상",
         "Sports"
        ]
       ],
       "shape": {
        "columns": 1,
        "rows": 5
       }
      },
      "text/plain": [
       "AgeGroup\n",
       "20대            Beauty\n",
       "30대              Food\n",
       "40대             Books\n",
       "50대       Electronics\n",
       "60대 이상         Sports\n",
       "Name: Category, dtype: object"
      ]
     },
     "metadata": {},
     "output_type": "display_data"
    },
    {
     "data": {
      "application/vnd.microsoft.datawrangler.viewer.v0+json": {
       "columns": [
        {
         "name": "AgeGroup",
         "rawType": "object",
         "type": "string"
        },
        {
         "name": "count",
         "rawType": "int64",
         "type": "integer"
        }
       ],
       "ref": "fa3cc8ec-57d9-4e0b-bc22-8e2d419647cf",
       "rows": [
        [
         "30대",
         "35"
        ],
        [
         "50대",
         "30"
        ],
        [
         "40대",
         "25"
        ],
        [
         "20대",
         "25"
        ],
        [
         "60대 이상",
         "5"
        ]
       ],
       "shape": {
        "columns": 1,
        "rows": 5
       }
      },
      "text/plain": [
       "AgeGroup\n",
       "30대       35\n",
       "50대       30\n",
       "40대       25\n",
       "20대       25\n",
       "60대 이상     5\n",
       "Name: count, dtype: int64"
      ]
     },
     "metadata": {},
     "output_type": "display_data"
    }
   ],
   "source": [
    "customer_revenue = eco_data.groupby('CustomerID')['TotalRevenue'].sum()\n",
    "top_5_customer = customer_revenue.sort_values(ascending=False).head(5)\n",
    "display(top_5_customer) # 매출액 top 5\n",
    "\n",
    "customer_order_count = eco_data['CustomerID'].value_counts()\n",
    "top_5_order_customer = customer_order_count.head(5)\n",
    "display(top_5_order_customer) # 주문 횟수 top 5\n",
    "\n",
    "eco_data['Birthdate'] = pd.to_datetime(eco_data['Birthdate'])\n",
    "eco_data['Age'] = 2024 - eco_data['Birthdate'].dt.year # 2024 -생일 = 나이\n",
    "\n",
    "def age_group(age): # 연령대 설정\n",
    "    if age < 20:\n",
    "        return '10대 이하'\n",
    "    elif age < 30:\n",
    "        return '20대'\n",
    "    elif age < 40:\n",
    "        return '30대'\n",
    "    elif age < 50:\n",
    "        return '40대'\n",
    "    elif age < 60:\n",
    "        return '50대'\n",
    "    else:\n",
    "        return '60대 이상'\n",
    "\n",
    "eco_data['AgeGroup'] = eco_data['Age'].apply(age_group) # 나이 컬럼 추가\n",
    "agegroup_top_category = eco_data.groupby('AgeGroup')['Category'].agg(lambda x: x.value_counts().idxmax())\n",
    "display(agegroup_top_category)\n",
    "\n",
    "display(eco_data[\"AgeGroup\"].value_counts()) # 나이 별 인원수 확인"
   ]
  },
  {
   "cell_type": "markdown",
   "metadata": {},
   "source": [
    "4. **상품 분석**\n",
    "    1. 가장 많이 판매된 상위 5개의 상품을 출력하세요.\n",
    "    2. **카테고리별**로 가장 많이 판매된 상품을 찾아 출력하세요.\n",
    "    3. **평균 구매 수량**이 가장 높은 상위 3개의 상품을 출력하세요."
   ]
  },
  {
   "cell_type": "code",
   "execution_count": 63,
   "metadata": {},
   "outputs": [
    {
     "data": {
      "application/vnd.microsoft.datawrangler.viewer.v0+json": {
       "columns": [
        {
         "name": "Product",
         "rawType": "object",
         "type": "string"
        },
        {
         "name": "Quantity",
         "rawType": "int64",
         "type": "integer"
        }
       ],
       "ref": "b7b99dfa-0a83-4bf7-b67c-cfbb31996124",
       "rows": [
        [
         "셔츠",
         "25"
        ],
        [
         "립스틱",
         "22"
        ],
        [
         "소설",
         "21"
        ],
        [
         "커피",
         "20"
        ],
        [
         "역사책",
         "20"
        ]
       ],
       "shape": {
        "columns": 1,
        "rows": 5
       }
      },
      "text/plain": [
       "Product\n",
       "셔츠     25\n",
       "립스틱    22\n",
       "소설     21\n",
       "커피     20\n",
       "역사책    20\n",
       "Name: Quantity, dtype: int64"
      ]
     },
     "metadata": {},
     "output_type": "display_data"
    },
    {
     "data": {
      "application/vnd.microsoft.datawrangler.viewer.v0+json": {
       "columns": [
        {
         "name": "index",
         "rawType": "int64",
         "type": "integer"
        },
        {
         "name": "Category",
         "rawType": "object",
         "type": "string"
        },
        {
         "name": "Product",
         "rawType": "object",
         "type": "string"
        },
        {
         "name": "Quantity",
         "rawType": "int64",
         "type": "integer"
        }
       ],
       "ref": "d310f002-0dcd-4430-b8d2-cdeaae92efdf",
       "rows": [
        [
         "1",
         "Beauty",
         "립스틱",
         "22"
        ],
        [
         "7",
         "Books",
         "소설",
         "21"
        ],
        [
         "10",
         "Clothing",
         "셔츠",
         "25"
        ],
        [
         "14",
         "Electronics",
         "노트북",
         "15"
        ],
        [
         "23",
         "Food",
         "커피",
         "20"
        ],
        [
         "25",
         "Sports",
         "요가매트",
         "12"
        ]
       ],
       "shape": {
        "columns": 3,
        "rows": 6
       }
      },
      "text/html": [
       "<div>\n",
       "<style scoped>\n",
       "    .dataframe tbody tr th:only-of-type {\n",
       "        vertical-align: middle;\n",
       "    }\n",
       "\n",
       "    .dataframe tbody tr th {\n",
       "        vertical-align: top;\n",
       "    }\n",
       "\n",
       "    .dataframe thead th {\n",
       "        text-align: right;\n",
       "    }\n",
       "</style>\n",
       "<table border=\"1\" class=\"dataframe\">\n",
       "  <thead>\n",
       "    <tr style=\"text-align: right;\">\n",
       "      <th></th>\n",
       "      <th>Category</th>\n",
       "      <th>Product</th>\n",
       "      <th>Quantity</th>\n",
       "    </tr>\n",
       "  </thead>\n",
       "  <tbody>\n",
       "    <tr>\n",
       "      <th>1</th>\n",
       "      <td>Beauty</td>\n",
       "      <td>립스틱</td>\n",
       "      <td>22</td>\n",
       "    </tr>\n",
       "    <tr>\n",
       "      <th>7</th>\n",
       "      <td>Books</td>\n",
       "      <td>소설</td>\n",
       "      <td>21</td>\n",
       "    </tr>\n",
       "    <tr>\n",
       "      <th>10</th>\n",
       "      <td>Clothing</td>\n",
       "      <td>셔츠</td>\n",
       "      <td>25</td>\n",
       "    </tr>\n",
       "    <tr>\n",
       "      <th>14</th>\n",
       "      <td>Electronics</td>\n",
       "      <td>노트북</td>\n",
       "      <td>15</td>\n",
       "    </tr>\n",
       "    <tr>\n",
       "      <th>23</th>\n",
       "      <td>Food</td>\n",
       "      <td>커피</td>\n",
       "      <td>20</td>\n",
       "    </tr>\n",
       "    <tr>\n",
       "      <th>25</th>\n",
       "      <td>Sports</td>\n",
       "      <td>요가매트</td>\n",
       "      <td>12</td>\n",
       "    </tr>\n",
       "  </tbody>\n",
       "</table>\n",
       "</div>"
      ],
      "text/plain": [
       "       Category Product  Quantity\n",
       "1        Beauty     립스틱        22\n",
       "7         Books      소설        21\n",
       "10     Clothing      셔츠        25\n",
       "14  Electronics     노트북        15\n",
       "23         Food      커피        20\n",
       "25       Sports    요가매트        12"
      ]
     },
     "metadata": {},
     "output_type": "display_data"
    },
    {
     "data": {
      "application/vnd.microsoft.datawrangler.viewer.v0+json": {
       "columns": [
        {
         "name": "Product",
         "rawType": "object",
         "type": "string"
        },
        {
         "name": "Quantity",
         "rawType": "float64",
         "type": "float"
        }
       ],
       "ref": "43f41651-d028-47a7-bc3e-41bddf929cff",
       "rows": [
        [
         "주스",
         "5.0"
        ],
        [
         "자기계발",
         "5.0"
        ],
        [
         "요가매트",
         "4.0"
        ]
       ],
       "shape": {
        "columns": 1,
        "rows": 3
       }
      },
      "text/plain": [
       "Product\n",
       "주스      5.0\n",
       "자기계발    5.0\n",
       "요가매트    4.0\n",
       "Name: Quantity, dtype: float64"
      ]
     },
     "metadata": {},
     "output_type": "display_data"
    }
   ],
   "source": [
    "product_sales = eco_data.groupby('Product')['Quantity'].sum() # 상품별 합계\n",
    "top_5_products = product_sales.sort_values(ascending=False).head(5)\n",
    "display(top_5_products)\n",
    "\n",
    "category_top_product = eco_data.groupby(['Category', 'Product'])['Quantity'].sum().reset_index() # 'Category', 'Product'를 'Quantity'합계로 그룹화\n",
    "category_top_product = category_top_product.sort_values(['Category', 'Quantity'], ascending=[True, False]).drop_duplicates('Category')\n",
    "display(category_top_product)\n",
    "\n",
    "product_avg_quantity = eco_data.groupby('Product')['Quantity'].mean()\n",
    "top_3_avg_quantity_products = product_avg_quantity.sort_values(ascending=False).head(3)\n",
    "display(top_3_avg_quantity_products)"
   ]
  },
  {
   "cell_type": "markdown",
   "metadata": {},
   "source": [
    "5. **시간 분석**\n",
    "    1. 주문 날짜별로 **주별** 매출액을 계산하고 시각화하세요.\n",
    "    2. 특정 기간(예: 2024년 1월 ~ 2024년 6월) 동안의 매출 추이를 분석하고 시각화하세요.\n",
    "    3. 특정 국가에서 가장 많이 주문한 시간대를 분석하고, 이를 시각화하여 인사이트를 도출하세요."
   ]
  },
  {
   "cell_type": "code",
   "execution_count": 78,
   "metadata": {},
   "outputs": [
    {
     "data": {
      "image/png": "[encoded data removed]",
      "text/plain": [
       "<Figure size 1000x600 with 1 Axes>"
      ]
     },
     "metadata": {},
     "output_type": "display_data"
    },
    {
     "name": "stdout",
     "output_type": "stream",
     "text": [
      "최소 날짜: 2023-10-08 05:49:00\n",
      "<class 'pandas._libs.tslibs.timestamps.Timestamp'>\n",
      "최대 날짜: 2024-10-03 10:55:00\n"
     ]
    },
    {
     "name": "stderr",
     "output_type": "stream",
     "text": [
      "C:\\Users\\김준협\\AppData\\Local\\Temp\\ipykernel_29716\\2093263618.py:17: FutureWarning: 'M' is deprecated and will be removed in a future version, please use 'ME' instead.\n",
      "  period_monthly_revenue = period_filtered['TotalRevenue'].resample('M').sum()\n"
     ]
    },
    {
     "data": {
      "image/png": "[encoded data removed]",
      "text/plain": [
       "<Figure size 1000x600 with 1 Axes>"
      ]
     },
     "metadata": {},
     "output_type": "display_data"
    },
    {
     "data": {
      "image/png": "[encoded data removed]",
      "text/plain": [
       "<Figure size 1000x600 with 1 Axes>"
      ]
     },
     "metadata": {},
     "output_type": "display_data"
    }
   ],
   "source": [
    "weekly_revenue = eco_data['TotalRevenue'].resample('W').sum()\n",
    "#print(weekly_revenue)\n",
    "\n",
    "plt.figure(figsize=(10, 6))\n",
    "plt.plot(weekly_revenue.index, weekly_revenue.values, marker='o')\n",
    "plt.title('Weekly Total Profit')\n",
    "plt.xlabel('Week')\n",
    "plt.ylabel('Total Profit')\n",
    "plt.grid(True)\n",
    "plt.show()\n",
    "\n",
    "print(\"최소 날짜:\", eco_data.index.min()) # 날찌 데이터 확인\n",
    "print(type(eco_data.index.min()))\n",
    "print(\"최대 날짜:\", eco_data.index.max())\n",
    "\n",
    "period_filtered = eco_data[eco_data.index.to_series().between('2024-01-01', '2024-06-30')]\n",
    "period_monthly_revenue = period_filtered['TotalRevenue'].resample('M').sum()\n",
    "#display(period_monthly_revenue)\n",
    "\n",
    "plt.figure(figsize=(10, 6))\n",
    "plt.plot(period_monthly_revenue.index, period_monthly_revenue.values, marker='o')\n",
    "plt.title('2024/01 ~ 2024/06 Monthly Graph')\n",
    "plt.xlabel('Month')\n",
    "plt.ylabel('Total Profit')\n",
    "plt.grid(True)\n",
    "plt.show()\n",
    "\n",
    "korea_data = eco_data[eco_data['Country'] == '대한민국'].copy()\n",
    "korea_data['Hour'] = korea_data.index.hour\n",
    "korea_hourly_orders = korea_data['Hour'].value_counts().sort_index()\n",
    "#display(korea_hourly_orders)\n",
    "\n",
    "plt.figure(figsize=(10,6))\n",
    "plt.bar(korea_hourly_orders.index, korea_hourly_orders.values)\n",
    "plt.title('Order Rate Per Hour in Korea')\n",
    "plt.xlabel('Hour')\n",
    "plt.ylabel('Order Rate')\n",
    "plt.xticks(range(0,24))\n",
    "plt.grid(axis='y')\n",
    "plt.show()"
   ]
  },
  {
   "cell_type": "markdown",
   "metadata": {},
   "source": [
    "6. **추가 분석**\n",
    "    1. 고객의 **재구매율**을 분석하세요.\n",
    "        - 재구매율 = 한 고객이 여러 번 주문한 비율\n",
    "    2. 상품 카테고리별 **할인**을 적용한 판매 데이터를 사용하여 할인율이 높은 카테고리의 매출액을 분석하세요."
   ]
  },
  {
   "cell_type": "code",
   "execution_count": 93,
   "metadata": {},
   "outputs": [
    {
     "name": "stdout",
     "output_type": "stream",
     "text": [
      "0.08108108108108109\n"
     ]
    },
    {
     "data": {
      "application/vnd.microsoft.datawrangler.viewer.v0+json": {
       "columns": [
        {
         "name": "Category",
         "rawType": "object",
         "type": "string"
        },
        {
         "name": "DiscountRate",
         "rawType": "float64",
         "type": "float"
        }
       ],
       "ref": "f9dff828-61a3-40a7-b5b4-98ec770efd75",
       "rows": [
        [
         "Beauty",
         "0.1865217391304348"
        ],
        [
         "Sports",
         "0.17944444444444443"
        ],
        [
         "Electronics",
         "0.17578947368421052"
        ],
        [
         "Food",
         "0.17409090909090907"
        ],
        [
         "Books",
         "0.17"
        ],
        [
         "Clothing",
         "0.154"
        ]
       ],
       "shape": {
        "columns": 1,
        "rows": 6
       }
      },
      "text/plain": [
       "Category\n",
       "Beauty         0.186522\n",
       "Sports         0.179444\n",
       "Electronics    0.175789\n",
       "Food           0.174091\n",
       "Books          0.170000\n",
       "Clothing       0.154000\n",
       "Name: DiscountRate, dtype: float64"
      ]
     },
     "metadata": {},
     "output_type": "display_data"
    }
   ],
   "source": [
    "customer_order_counts = eco_data['CustomerID'].value_counts() # 고객별 주문 횟수 확인\n",
    "#display(customer_order_counts)\n",
    "repurchase_customers = customer_order_counts[customer_order_counts >= 2].count() # 2이상을 통해 재구매한 고객 수 확인\n",
    "#display(repurchase_customers)\n",
    "total_customers = customer_order_counts.count() # total 고객\n",
    "#display(total_customers)\n",
    "repurchase_rate = repurchase_customers / total_customers\n",
    "print(repurchase_rate)\n",
    "\n",
    "#display(eco_data)\n",
    "eco_data['DiscountedRevenue'] = eco_data['TotalRevenue'] * (1 - eco_data['DiscountRate'])\n",
    "category_discount = eco_data.groupby('Category')['DiscountRate'].mean()\n",
    "display(category_discount.sort_values(ascending=False))\n"
   ]
  }
 ],
 "metadata": {
  "kernelspec": {
   "display_name": "pystudy_env",
   "language": "python",
   "name": "python3"
  },
  "language_info": {
   "codemirror_mode": {
    "name": "ipython",
    "version": 3
   },
   "file_extension": ".py",
   "mimetype": "text/x-python",
   "name": "python",
   "nbconvert_exporter": "python",
   "pygments_lexer": "ipython3",
   "version": "3.12.11"
  }
 },
 "nbformat": 4,
 "nbformat_minor": 2
}

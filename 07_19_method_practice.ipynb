{
 "cells": [
  {
   "cell_type": "code",
   "execution_count": 2,
   "id": "5259c891",
   "metadata": {},
   "outputs": [
    {
     "name": "stdout",
     "output_type": "stream",
     "text": [
      "   Client ID Client Name  Net worth [$]  Years with bank\n",
      "0          1         Aly          35000                4\n",
      "1          2       Steve           3000                7\n",
      "2          3      Nicole         100000               10\n",
      "3          4      Morris           2000               15\n"
     ]
    }
   ],
   "source": [
    "import numpy as np\n",
    "import pandas as pd\n",
    "\n",
    "bank_client_df = pd.DataFrame({\n",
    "    'Client ID': [1, 2, 3, 4],\n",
    "    'Client Name': ['Aly', 'Steve', 'Nicole', 'Morris'],\n",
    "    'Net worth [$]': [35000, 3000, 100000, 2000],\n",
    "    'Years with bank': [4, 7, 10, 15]\n",
    "})\n",
    "\n",
    "print(bank_client_df)"
   ]
  },
  {
   "cell_type": "code",
   "execution_count": 3,
   "id": "1abe6862",
   "metadata": {},
   "outputs": [
    {
     "name": "stdout",
     "output_type": "stream",
     "text": [
      "   Client ID Client Name  Net worth [$]  Years with bank\n",
      "2          3      Nicole         100000               10\n"
     ]
    }
   ],
   "source": [
    "# 문제 1. ID가 3인 고객 조회\n",
    "\n",
    "find_id_3 = bank_client_df[bank_client_df[\"Client ID\"] == 3]\n",
    "print(find_id_3)"
   ]
  },
  {
   "cell_type": "code",
   "execution_count": 4,
   "id": "19423d9f",
   "metadata": {},
   "outputs": [
    {
     "name": "stdout",
     "output_type": "stream",
     "text": [
      "   Client ID Client Name  Net worth [$]  Years with bank\n",
      "0          1         Aly          35000                4\n",
      "2          3      Nicole         100000               10\n"
     ]
    }
   ],
   "source": [
    "# 문제 2. 순자산(예치 금액)이 5,000달러가 넘는 고객 조회\n",
    "\n",
    "find_worth_over_5000 = bank_client_df[bank_client_df[\"Net worth [$]\"] > 5000]\n",
    "print(find_worth_over_5000)"
   ]
  },
  {
   "cell_type": "code",
   "execution_count": 5,
   "id": "2fb432ca",
   "metadata": {},
   "outputs": [
    {
     "name": "stdout",
     "output_type": "stream",
     "text": [
      "   Client ID Client Name  Net worth [$]  Years with bank\n",
      "1          2       Steve           3000                7\n",
      "2          3      Nicole         100000               10\n",
      "3          4      Morris           2000               15\n"
     ]
    }
   ],
   "source": [
    "# 문제 3. 거래 기간이 5년 이상인 고객 조회\n",
    "\n",
    "find_year_over_5 = bank_client_df[bank_client_df[\"Years with bank\"] >= 5]\n",
    "print(find_year_over_5)"
   ]
  },
  {
   "cell_type": "code",
   "execution_count": 6,
   "id": "10e345bf",
   "metadata": {},
   "outputs": [
    {
     "name": "stdout",
     "output_type": "stream",
     "text": [
      "   Client ID Client Name  Net worth [$]  Years with bank\n",
      "1          2       Steve           3000                7\n"
     ]
    }
   ],
   "source": [
    "find_name_start_s = bank_client_df[bank_client_df[\"Client Name\"].str.startswith('S')]\n",
    "print(find_name_start_s)"
   ]
  },
  {
   "cell_type": "code",
   "execution_count": 7,
   "id": "a2b925d3",
   "metadata": {},
   "outputs": [
    {
     "name": "stdout",
     "output_type": "stream",
     "text": [
      "   Client ID Client Name  Net worth [$]  Years with bank\n",
      "1          2       Steve           3000                7\n"
     ]
    }
   ],
   "source": [
    "find_5 = bank_client_df[\"Years with bank\"] >= 5\n",
    "start_s = bank_client_df[\"Client Name\"].str.startswith('S')\n",
    "find_conbine = bank_client_df[find_5 & start_s]\n",
    "\n",
    "print(find_conbine)"
   ]
  }
 ],
 "metadata": {
  "kernelspec": {
   "display_name": "pystudy_env",
   "language": "python",
   "name": "python3"
  },
  "language_info": {
   "codemirror_mode": {
    "name": "ipython",
    "version": 3
   },
   "file_extension": ".py",
   "mimetype": "text/x-python",
   "name": "python",
   "nbconvert_exporter": "python",
   "pygments_lexer": "ipython3",
   "version": "3.12.11"
  }
 },
 "nbformat": 4,
 "nbformat_minor": 5
}
